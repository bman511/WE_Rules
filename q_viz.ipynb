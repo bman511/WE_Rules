{
 "cells": [
  {
   "cell_type": "code",
   "execution_count": 39,
   "metadata": {},
   "outputs": [],
   "source": [
    "import numpy as np\n",
    "import pandas as pd\n",
    "import matplotlib.pyplot as plt\n",
    "import statistics as stat"
   ]
  },
  {
   "cell_type": "markdown",
   "metadata": {},
   "source": [
    "### Western Electric Rules"
   ]
  },
  {
   "cell_type": "markdown",
   "metadata": {},
   "source": [
    "Rule 1: Any single data point falls outside the 3σ-limit from the centerline (i.e., any point that falls outside Zone A, beyond either the upper or lower control limit)"
   ]
  },
  {
   "cell_type": "markdown",
   "metadata": {},
   "source": [
    "Rule 2: Two out of three consecutive points fall beyond the 2σ-limit (in zone A or beyond), on the same side of the centerline"
   ]
  },
  {
   "cell_type": "markdown",
   "metadata": {},
   "source": [
    "Rule 3: Four out of five consecutive points fall beyond the 1σ-limit (in zone B or beyond), on the same side of the centerline."
   ]
  },
  {
   "cell_type": "markdown",
   "metadata": {},
   "source": [
    "Rule 4\tNINE consecutive points fall on the same side of the centerline (in zone C or beyond)"
   ]
  },
  {
   "cell_type": "code",
   "execution_count": 40,
   "metadata": {},
   "outputs": [],
   "source": [
    "def rando():\n",
    "    theNum = np.random.randint(50,100)\n",
    "    return theNum"
   ]
  },
  {
   "cell_type": "code",
   "execution_count": 41,
   "metadata": {},
   "outputs": [],
   "source": [
    "def testRule1(arr,newNum):\n",
    "    themean = stat.mean(arr)\n",
    "    sd = stat.stdev(arr)\n",
    "    sigUp = themean + sd*3\n",
    "    sigDown = themean - sd*3\n",
    "    if newNum > sigUp:\n",
    "        print(f\"Rule 1 Violation. Upper Control Limit (UCL -- mean + 3SD) is {round(sigUp,1)}\")\n",
    "        proceed(newNum)\n",
    "    elif newNum < sigDown:\n",
    "        print(f\"Rule 1 Violation. Lower Control Limit (LCL mean - 3SD) is {round(sigDown,1)}.\")\n",
    "        proceed(newNum)\n",
    "    else:\n",
    "        myArr.append(newNum)\n",
    "        print(\"New datum added to list\")\n",
    "        print(f\"New array: {myArr}\")\n",
    "    keepOn = input(\"Continue with monitoring (y/n)? \\n\")\n",
    "        \n",
    "    "
   ]
  },
  {
   "cell_type": "code",
   "execution_count": 42,
   "metadata": {},
   "outputs": [],
   "source": [
    "def testRule1b(obj,newNum, mean, sd):\n",
    "    sigUp = mean + sd*3\n",
    "    sigDown = mean - sd*3\n",
    "    code = (newNum > sigUp) or (newNum < sigDown)\n",
    "    obj['format_1'] = np.append(obj['format_1'],code)\n",
    "    return"
   ]
  },
  {
   "cell_type": "code",
   "execution_count": 43,
   "metadata": {},
   "outputs": [],
   "source": [
    "def testRule2b(obj, newNum, mean, sd):\n",
    "    twoSigUp = mean + sd*2\n",
    "    twoSigDown = mean - sd*2\n",
    "    temp_clipped = obj['all_vals'][-2:]\n",
    "    temp_clipped = np.append(temp_clipped,newNum)\n",
    "    above2 = temp_clipped > twoSigUp\n",
    "    below2 = temp_clipped < twoSigDown\n",
    "    code = (above2.sum(axis=0) >= 2) or (below2.sum(axis=0) >= 2)\n",
    "    obj['format_2'] = np.append(obj['format_2'],code)\n",
    "    return    "
   ]
  },
  {
   "cell_type": "code",
   "execution_count": 44,
   "metadata": {},
   "outputs": [],
   "source": [
    "def testRule3b(obj, newNum, mean, sd):\n",
    "    oneSigUp = mean + sd\n",
    "    oneSigDown = mean - sd\n",
    "    temp_clipped = obj['all_vals'][-5:]\n",
    "    temp_clipped = np.append(temp_clipped,newNum)\n",
    "    above1 = temp_clipped > oneSigUp\n",
    "    below1 = temp_clipped < oneSigDown\n",
    "    code = (above1.sum(axis=0) >= 4) or (below1.sum(axis=0) >= 4)\n",
    "    obj['format_3'] = np.append(obj['format_3'],code)\n",
    "    return"
   ]
  },
  {
   "cell_type": "code",
   "execution_count": 45,
   "metadata": {},
   "outputs": [],
   "source": [
    "def testRule4b(obj, newNum, mean):\n",
    "    temp_clipped = obj['all_vals'][-8:]\n",
    "    temp_clipped = np.append(temp_clipped,newNum)\n",
    "    above = temp_clipped > mean\n",
    "    below = temp_clipped < mean\n",
    "    code = (above.sum(axis=0) >= 9) or (below.sum(axis=0) >= 9)\n",
    "    obj['format_4'] = np.append(obj['format_4'],code)\n",
    "    return"
   ]
  },
  {
   "cell_type": "code",
   "execution_count": 46,
   "metadata": {},
   "outputs": [],
   "source": [
    "def violations(obj,datum):\n",
    "    \n",
    "    theMean = np.mean(obj['all_vals'])\n",
    "    sd = np.std(obj['all_vals'])\n",
    "    testRule1b(obj,datum, theMean, sd)\n",
    "    testRule2b(obj,datum, theMean, sd)\n",
    "    testRule3b(obj,datum, theMean, sd)\n",
    "    testRule4b(obj,datum, theMean)\n",
    "    return"
   ]
  },
  {
   "cell_type": "code",
   "execution_count": 47,
   "metadata": {},
   "outputs": [],
   "source": [
    "def assign_datum(obj,datum = None):\n",
    "    if(datum is None):\n",
    "        datum = rando()\n",
    "    violations(obj,datum)\n",
    "    obj['all_vals'] = np.append(obj['all_vals'],datum)\n",
    "    print(obj['all_vals'])\n",
    "    print(obj['format_4'])\n",
    "    print(obj['format_3'])\n",
    "    print(obj['format_2'])\n",
    "    print(obj['format_1'])\n",
    "    return\n",
    "    "
   ]
  },
  {
   "cell_type": "code",
   "execution_count": 66,
   "metadata": {},
   "outputs": [],
   "source": [
    "trendObj = {'all_vals': np.random.randint(50, 100, size=100),\n",
    "            'format_1': np.zeros(100),\n",
    "            'format_2': np.zeros(100),\n",
    "            'format_3': np.zeros(100),\n",
    "            'format_4': np.zeros(100),\n",
    "           }\n"
   ]
  },
  {
   "cell_type": "code",
   "execution_count": 67,
   "metadata": {},
   "outputs": [],
   "source": [
    "#Return the value's index if rule has been violated.  This will be used for formatting.\n",
    "def format_arr(rule):\n",
    "    rule_arr = 'format_' + str(rule)\n",
    "    return [index for index,val in enumerate(trendObj[rule_arr]) if val]\n"
   ]
  },
  {
   "cell_type": "code",
   "execution_count": 98,
   "metadata": {},
   "outputs": [
    {
     "name": "stdout",
     "output_type": "stream",
     "text": [
      "[ 62  76  81  97  72  95  88  50  68  80  81  83  78  63  54  94  86  95\n",
      "  97  56  97  92  80  89  56  63  80  70  59  60  63  50  92  60  67  58\n",
      "  85  81  99  94  98  69  54  73  87  59  54  80  56  50  70  85  83  56\n",
      "  91  57  70  62  80  54  82  65  91  65  99  99  62  65  93  59  98  64\n",
      "  89  76  80  69  78  74  61  85  50  74  63  97  50  99  64  89  60  78\n",
      "  63  84  52  90  54  74  89  82  59  53  77  77  77  77  77  77  77  77\n",
      "  77 130 110 100  95]\n",
      "[0. 0. 0. 0. 0. 0. 0. 0. 0. 0. 0. 0. 0. 0. 0. 0. 0. 0. 0. 0. 0. 0. 0. 0.\n",
      " 0. 0. 0. 0. 0. 0. 0. 0. 0. 0. 0. 0. 0. 0. 0. 0. 0. 0. 0. 0. 0. 0. 0. 0.\n",
      " 0. 0. 0. 0. 0. 0. 0. 0. 0. 0. 0. 0. 0. 0. 0. 0. 0. 0. 0. 0. 0. 0. 0. 0.\n",
      " 0. 0. 0. 0. 0. 0. 0. 0. 0. 0. 0. 0. 0. 0. 0. 0. 0. 0. 0. 0. 0. 0. 0. 0.\n",
      " 0. 0. 0. 0. 0. 0. 0. 0. 0. 0. 0. 0. 1. 1. 1. 1. 1.]\n",
      "[0. 0. 0. 0. 0. 0. 0. 0. 0. 0. 0. 0. 0. 0. 0. 0. 0. 0. 0. 0. 0. 0. 0. 0.\n",
      " 0. 0. 0. 0. 0. 0. 0. 0. 0. 0. 0. 0. 0. 0. 0. 0. 0. 0. 0. 0. 0. 0. 0. 0.\n",
      " 0. 0. 0. 0. 0. 0. 0. 0. 0. 0. 0. 0. 0. 0. 0. 0. 0. 0. 0. 0. 0. 0. 0. 0.\n",
      " 0. 0. 0. 0. 0. 0. 0. 0. 0. 0. 0. 0. 0. 0. 0. 0. 0. 0. 0. 0. 0. 0. 0. 0.\n",
      " 0. 0. 0. 0. 0. 0. 0. 0. 0. 0. 0. 0. 0. 0. 0. 0. 1.]\n",
      "[0. 0. 0. 0. 0. 0. 0. 0. 0. 0. 0. 0. 0. 0. 0. 0. 0. 0. 0. 0. 0. 0. 0. 0.\n",
      " 0. 0. 0. 0. 0. 0. 0. 0. 0. 0. 0. 0. 0. 0. 0. 0. 0. 0. 0. 0. 0. 0. 0. 0.\n",
      " 0. 0. 0. 0. 0. 0. 0. 0. 0. 0. 0. 0. 0. 0. 0. 0. 0. 0. 0. 0. 0. 0. 0. 0.\n",
      " 0. 0. 0. 0. 0. 0. 0. 0. 0. 0. 0. 0. 0. 0. 0. 0. 0. 0. 0. 0. 0. 0. 0. 0.\n",
      " 0. 0. 0. 0. 0. 0. 0. 0. 0. 0. 0. 0. 0. 0. 1. 1. 0.]\n",
      "[0. 0. 0. 0. 0. 0. 0. 0. 0. 0. 0. 0. 0. 0. 0. 0. 0. 0. 0. 0. 0. 0. 0. 0.\n",
      " 0. 0. 0. 0. 0. 0. 0. 0. 0. 0. 0. 0. 0. 0. 0. 0. 0. 0. 0. 0. 0. 0. 0. 0.\n",
      " 0. 0. 0. 0. 0. 0. 0. 0. 0. 0. 0. 0. 0. 0. 0. 0. 0. 0. 0. 0. 0. 0. 0. 0.\n",
      " 0. 0. 0. 0. 0. 0. 0. 0. 0. 0. 0. 0. 0. 0. 0. 0. 0. 0. 0. 0. 0. 0. 0. 0.\n",
      " 0. 0. 0. 0. 0. 0. 0. 0. 0. 0. 0. 0. 0. 1. 0. 0. 0.]\n"
     ]
    }
   ],
   "source": [
    "assign_datum(trendObj,95)"
   ]
  },
  {
   "cell_type": "code",
   "execution_count": 133,
   "metadata": {},
   "outputs": [
    {
     "data": {
      "image/png": "[encoded data removed]",
      "text/plain": [
       "<Figure size 864x576 with 1 Axes>"
      ]
     },
     "metadata": {
      "needs_background": "light"
     },
     "output_type": "display_data"
    }
   ],
   "source": [
    "#Plot all values and the formatting arrays to show violations\n",
    "#81B5CB\n",
    "#plt.plot(trendObj['all_vals'], color='blue',markevery=format_arr(1), ls=\"\", marker=8, label=\"Rule1\", markersize=10.0)\n",
    "mark = 6.0\n",
    "plt.figure(figsize=(12,8))\n",
    "plt.plot(trendObj['all_vals'], color='red',markevery=format_arr(1), ls=\"\", marker='s',mfc = 'none', mec='red', label=\"Rule1\", markersize=mark*3.5)\n",
    "plt.plot(trendObj['all_vals'], color='blue',markevery=format_arr(2), ls=\"\", marker='o', mfc='none',mec='blue',label=\"Rule2\", markersize=mark*3)\n",
    "plt.plot(trendObj['all_vals'], color='blue',markevery=format_arr(3), ls=\"\", marker='o', mfc='none',mec='purple',label=\"Rule3\", markersize=mark*2.5)\n",
    "plt.plot(trendObj['all_vals'], color='blue',markevery=format_arr(4), ls=\"\", marker='o', mfc='none',mec='green',label=\"Rule4\", markersize=mark*1.7)\n",
    "plt.plot(trendObj['all_vals'], color='#81B5CB', ls=\"\", marker=\"o\", markersize=mark)\n",
    "#plt.plot(trendObj['all_vals'], color='yellow',markevery=format_arr(4), ls=\"\", marker='x', mfc='none',mec='green',label=\"Rule4\", markersize=mark)\n",
    "plt.axhline(y=np.mean(trendObj['all_vals']), linewidth=1, color='r')\n",
    "plt.legend()\n",
    "plt.ylim(-10, 150)\n",
    "plt.show()"
   ]
  },
  {
   "cell_type": "code",
   "execution_count": 52,
   "metadata": {},
   "outputs": [],
   "source": [
    "def proceed(num):\n",
    "    while True:\n",
    "        result = input(\"Add to data set? (y/n) \\n\")\n",
    "        if result.lower() not in ('y','n'):\n",
    "            print('Sorry, not a valid response')\n",
    "            continue\n",
    "        else:\n",
    "            break\n",
    "    if result == 'y':\n",
    "        myArr.append(num)\n",
    "        print(\"New datum added to list\")\n",
    "     \n",
    "    "
   ]
  },
  {
   "cell_type": "code",
   "execution_count": 53,
   "metadata": {},
   "outputs": [
    {
     "name": "stdout",
     "output_type": "stream",
     "text": [
      "Should I keep going? \n",
      "n\n",
      "Ok, thanks for playing!\n"
     ]
    }
   ],
   "source": [
    "keepGoing = True\n",
    "while keepGoing:\n",
    "    question = input(\"Should I keep going? \\n\")\n",
    "    if question == 'n':\n",
    "        print(\"Ok, thanks for playing!\")\n",
    "        keepGoing = False"
   ]
  }
 ],
 "metadata": {
  "kernelspec": {
   "display_name": "Python 3",
   "language": "python",
   "name": "python3"
  },
  "language_info": {
   "codemirror_mode": {
    "name": "ipython",
    "version": 3
   },
   "file_extension": ".py",
   "mimetype": "text/x-python",
   "name": "python",
   "nbconvert_exporter": "python",
   "pygments_lexer": "ipython3",
   "version": "3.7.3"
  }
 },
 "nbformat": 4,
 "nbformat_minor": 2
}
