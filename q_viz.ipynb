{
 "cells": [
  {
   "cell_type": "code",
   "execution_count": 1,
   "metadata": {},
   "outputs": [],
   "source": [
    "import numpy as np"
   ]
  },
  {
   "cell_type": "code",
   "execution_count": 2,
   "metadata": {},
   "outputs": [],
   "source": [
    "import pandas as pd\n",
    "import matplotlib.pyplot as plt\n",
    "import statistics as stat"
   ]
  },
  {
   "cell_type": "markdown",
   "metadata": {},
   "source": [
    "### Western Electric Rules"
   ]
  },
  {
   "cell_type": "markdown",
   "metadata": {},
   "source": [
    "Rule 1: Any single data point falls outside the 3σ-limit from the centerline (i.e., any point that falls outside Zone A, beyond either the upper or lower control limit)"
   ]
  },
  {
   "cell_type": "code",
   "execution_count": 4,
   "metadata": {},
   "outputs": [],
   "source": [
    "#myArr = [1,2,3,3,4,2,5,4]\n",
    "myArr = list(np.random.randint(50, 100, size=100))"
   ]
  },
  {
   "cell_type": "code",
   "execution_count": 39,
   "metadata": {},
   "outputs": [],
   "source": [
    "def rando():\n",
    "    theNum = np.random.randint(50,100)\n",
    "    return theNum"
   ]
  },
  {
   "cell_type": "code",
   "execution_count": 5,
   "metadata": {},
   "outputs": [],
   "source": [
    "def testRule1(arr,newNum):\n",
    "    themean = stat.mean(arr)\n",
    "    sd = stat.stdev(arr)\n",
    "    sigUp = themean + sd*3\n",
    "    sigDown = themean - sd*3\n",
    "    if newNum > sigUp:\n",
    "        print(f\"Rule 1 Violation. Upper Control Limit (UCL -- mean + 3SD) is {round(sigUp,1)}\")\n",
    "        proceed(newNum)\n",
    "    elif newNum < sigDown:\n",
    "        print(f\"Rule 1 Violation. Lower Control Limit (LCL mean - 3SD) is {round(sigDown,1)}.\")\n",
    "        proceed(newNum)\n",
    "    else:\n",
    "        myArr.append(newNum)\n",
    "        print(\"New datum added to list\")\n",
    "        print(f\"New array: {myArr}\")\n",
    "    keepOn = input(\"Continue with monitoring (y/n)? \\n\")\n",
    "        \n",
    "    "
   ]
  },
  {
   "cell_type": "code",
   "execution_count": 6,
   "metadata": {},
   "outputs": [],
   "source": [
    "def proceed(num):\n",
    "    while True:\n",
    "        result = input(\"Add to data set? (y/n) \\n\")\n",
    "        if result.lower() not in ('y','n'):\n",
    "            print('Sorry, not a valid response')\n",
    "            continue\n",
    "        else:\n",
    "            break\n",
    "    if result == 'y':\n",
    "        myArr.append(num)\n",
    "        print(\"New datum added to list\")\n",
    "     \n",
    "    "
   ]
  },
  {
   "cell_type": "code",
   "execution_count": 8,
   "metadata": {},
   "outputs": [
    {
     "name": "stdout",
     "output_type": "stream",
     "text": [
      "Rule 1 Violation. Lower Control Limit (LCL mean - 3SD) is 32.0.\n",
      "Add to data set? (y/n) \n",
      "n\n",
      "Continue with monitoring (y/n)? \n",
      "y\n"
     ]
    }
   ],
   "source": [
    "testRule1(myArr,5)"
   ]
  },
  {
   "cell_type": "code",
   "execution_count": 25,
   "metadata": {},
   "outputs": [
    {
     "name": "stdout",
     "output_type": "stream",
     "text": [
      "Should I keep going? \n",
      "y\n",
      "Should I keep going? \n",
      "n\n",
      "Ok, thanks for playing!\n"
     ]
    }
   ],
   "source": [
    "keepGoing = True\n",
    "while keepGoing:\n",
    "    question = input(\"Should I keep going? \\n\")\n",
    "    if question == 'n':\n",
    "        print(\"Ok, thanks for playing!\")\n",
    "        keepGoing = False"
   ]
  },
  {
   "cell_type": "markdown",
   "metadata": {},
   "source": [
    "Rule 2: Two out of three consecutive points fall beyond the 2σ-limit (in zone A or beyond), on the same side of the centerline"
   ]
  },
  {
   "cell_type": "code",
   "execution_count": 67,
   "metadata": {},
   "outputs": [],
   "source": [
    "#testing whether there are two out of three consecutive numbers above the line\n",
    "def testRule2(arr, newNum):\n",
    "    themean = stat.mean(arr)\n",
    "    sd = stat.stdev(arr)\n",
    "    twoSigUp = themean + sd*2\n",
    "    twoSigDown = themean - sd*2\n",
    "    arr.append(newNum)\n",
    "    clipped = np.array(arr)[-3:]\n",
    "    above2 = clipped > twoSigUp\n",
    "    below2 = clipped < twoSigDown\n",
    "    print(f'low: {round(twoSigDown,1)}, high: {round(twoSigUp,1)}')\n",
    "    if (above2.sum(axis=0) >= 2) or (below2.sum(axis=0) >= 2):\n",
    "        print(\"Violation\")\n",
    "        print(clipped)\n",
    "    else:\n",
    "        print(\"all good\")\n",
    "    \n",
    "    "
   ]
  },
  {
   "cell_type": "code",
   "execution_count": 68,
   "metadata": {},
   "outputs": [],
   "source": [
    "myList = [3,4,3,6,5,4,7,7]"
   ]
  },
  {
   "cell_type": "code",
   "execution_count": 69,
   "metadata": {},
   "outputs": [
    {
     "name": "stdout",
     "output_type": "stream",
     "text": [
      "low: 1.6, high: 8.2\n",
      "all good\n"
     ]
    }
   ],
   "source": [
    "testRule2(myList, 20)"
   ]
  },
  {
   "cell_type": "code",
   "execution_count": null,
   "metadata": {},
   "outputs": [],
   "source": [
    "#myArr = [1,2,3,3,4,2,5,4]\n",
    "myArr = list(np.random.randint(50, 100, size=100))"
   ]
  },
  {
   "cell_type": "markdown",
   "metadata": {},
   "source": [
    "Rule 3: Four out of five consecutive points fall beyond the 1σ-limit (in zone B or beyond), on the same side of the centerline."
   ]
  },
  {
   "cell_type": "code",
   "execution_count": 78,
   "metadata": {},
   "outputs": [],
   "source": [
    "def testRule3(arr, newNum):\n",
    "    themean = stat.mean(arr)\n",
    "    sd = stat.stdev(arr)\n",
    "    oneSigUp = themean + sd\n",
    "    oneSigDown = themean - sd\n",
    "    arr.append(newNum)\n",
    "    clipped = np.array(arr)[-5:]\n",
    "    above2 = clipped > oneSigUp\n",
    "    below2 = clipped < oneSigDown\n",
    "    print(f'low: {round(oneSigDown,1)}, high: {round(oneSigUp,1)}')\n",
    "    if (above2.sum(axis=0) >= 4) or (below2.sum(axis=0) >= 4):\n",
    "        print(\"Violation\")\n",
    "        print(clipped)\n",
    "    else:\n",
    "        print(\"all good\")"
   ]
  },
  {
   "cell_type": "code",
   "execution_count": 83,
   "metadata": {},
   "outputs": [],
   "source": [
    "rule3List = [3,4,3,6,5,4,7,7,8,10,15,10,10,15]"
   ]
  },
  {
   "cell_type": "code",
   "execution_count": 84,
   "metadata": {},
   "outputs": [
    {
     "name": "stdout",
     "output_type": "stream",
     "text": [
      "low: 3.7, high: 11.6\n",
      "all good\n"
     ]
    }
   ],
   "source": [
    "testRule3(rule3List,15)"
   ]
  },
  {
   "cell_type": "markdown",
   "metadata": {},
   "source": [
    "Rule 4\tNINE consecutive points fall on the same side of the centerline (in zone C or beyond)"
   ]
  },
  {
   "cell_type": "code",
   "execution_count": 98,
   "metadata": {},
   "outputs": [],
   "source": [
    "def testRule4(arr, newNum):\n",
    "    theMean = stat.mean(arr)\n",
    "    sd = stat.stdev(arr)\n",
    "    arr.append(newNum)\n",
    "    clipped = np.array(arr)[-9:]\n",
    "    above = clipped > theMean\n",
    "    below = clipped < theMean\n",
    "    print(f'mean:{round(theMean,1)}')\n",
    "    if (above.sum(axis=0) >= 9) or (below.sum(axis=0) >= 9):\n",
    "        print(\"Violation\")\n",
    "        print(clipped)\n",
    "    else:\n",
    "        print(\"all good\")"
   ]
  },
  {
   "cell_type": "code",
   "execution_count": 103,
   "metadata": {},
   "outputs": [],
   "source": [
    "rule4List = [3,4,3,6,5,4,7,7,8,10,15,10,10,15,15,15,15,15]"
   ]
  },
  {
   "cell_type": "code",
   "execution_count": 104,
   "metadata": {},
   "outputs": [
    {
     "name": "stdout",
     "output_type": "stream",
     "text": [
      "mean:9.3\n",
      "Violation\n",
      "[15 10 10 15 15 15 15 15 15]\n"
     ]
    }
   ],
   "source": [
    "testRule4(rule4List,15)"
   ]
  },
  {
   "cell_type": "code",
   "execution_count": null,
   "metadata": {},
   "outputs": [],
   "source": []
  }
 ],
 "metadata": {
  "kernelspec": {
   "display_name": "Python 3",
   "language": "python",
   "name": "python3"
  },
  "language_info": {
   "codemirror_mode": {
    "name": "ipython",
    "version": 3
   },
   "file_extension": ".py",
   "mimetype": "text/x-python",
   "name": "python",
   "nbconvert_exporter": "python",
   "pygments_lexer": "ipython3",
   "version": "3.7.0"
  }
 },
 "nbformat": 4,
 "nbformat_minor": 2
}
