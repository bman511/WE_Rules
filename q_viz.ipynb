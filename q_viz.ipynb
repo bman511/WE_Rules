{
 "cells": [
  {
   "cell_type": "code",
   "execution_count": 1,
   "metadata": {},
   "outputs": [],
   "source": [
    "import numpy as np\n",
    "import pandas as pd\n",
    "import matplotlib.pyplot as plt\n",
    "import statistics as stat"
   ]
  },
  {
   "cell_type": "markdown",
   "metadata": {},
   "source": [
    "### Western Electric Rules"
   ]
  },
  {
   "cell_type": "markdown",
   "metadata": {},
   "source": [
    "Rule 1: Any single data point falls outside the 3σ-limit from the centerline (i.e., any point that falls outside Zone A, beyond either the upper or lower control limit)"
   ]
  },
  {
   "cell_type": "code",
   "execution_count": 56,
   "metadata": {},
   "outputs": [],
   "source": [
    "#myArr = [1,2,3,3,4,2,5,4]\n",
    "#myArr = pd.Series(np.random.randint(50, 100, size=100))\n",
    "myArr = np.random.randint(50, 100, size=100)"
   ]
  },
  {
   "cell_type": "code",
   "execution_count": null,
   "metadata": {},
   "outputs": [],
   "source": [
    "#np.append(myArr,1)"
   ]
  },
  {
   "cell_type": "code",
   "execution_count": 50,
   "metadata": {},
   "outputs": [
    {
     "data": {
      "text/plain": [
       "74.94"
      ]
     },
     "execution_count": 50,
     "metadata": {},
     "output_type": "execute_result"
    }
   ],
   "source": [
    "arr_mean = np.mean(myArr)\n",
    "arr_mean"
   ]
  },
  {
   "cell_type": "code",
   "execution_count": 51,
   "metadata": {},
   "outputs": [],
   "source": [
    "flag = [21,22,23,24]"
   ]
  },
  {
   "cell_type": "code",
   "execution_count": 52,
   "metadata": {},
   "outputs": [
    {
     "data": {
      "image/png": "[encoded data removed]",
      "text/plain": [
       "<Figure size 432x288 with 1 Axes>"
      ]
     },
     "metadata": {
      "needs_background": "light"
     },
     "output_type": "display_data"
    }
   ],
   "source": [
    "plt.ylim(-50, 150)\n",
    "plt.plot(myArr,'bo')\n",
    "plt.plot([0,100],[arr_mean,arr_mean],'go--',linewidth=2)\n",
    "plt.plot(myArr, color='red',markevery=flag, ls=\"\", marker=\"+\", label=\"points\")\n",
    "plt.show()"
   ]
  },
  {
   "cell_type": "code",
   "execution_count": 42,
   "metadata": {},
   "outputs": [],
   "source": [
    "def rando():\n",
    "    theNum = np.random.randint(50,100)\n",
    "    return theNum"
   ]
  },
  {
   "cell_type": "code",
   "execution_count": 43,
   "metadata": {},
   "outputs": [],
   "source": [
    "def testRule1(arr,newNum):\n",
    "    themean = stat.mean(arr)\n",
    "    sd = stat.stdev(arr)\n",
    "    sigUp = themean + sd*3\n",
    "    sigDown = themean - sd*3\n",
    "    if newNum > sigUp:\n",
    "        print(f\"Rule 1 Violation. Upper Control Limit (UCL -- mean + 3SD) is {round(sigUp,1)}\")\n",
    "        proceed(newNum)\n",
    "    elif newNum < sigDown:\n",
    "        print(f\"Rule 1 Violation. Lower Control Limit (LCL mean - 3SD) is {round(sigDown,1)}.\")\n",
    "        proceed(newNum)\n",
    "    else:\n",
    "        myArr.append(newNum)\n",
    "        print(\"New datum added to list\")\n",
    "        print(f\"New array: {myArr}\")\n",
    "    keepOn = input(\"Continue with monitoring (y/n)? \\n\")\n",
    "        \n",
    "    "
   ]
  },
  {
   "cell_type": "code",
   "execution_count": 5,
   "metadata": {},
   "outputs": [],
   "source": [
    "#Need to figure out the order of operators of the formatting\n",
    "#Rule 1 through 4, return if positive\n",
    "#Or, could just do a combo of formats\n",
    "#Fill color, size, marker, and edge\n",
    "#Maybe have two arrays, a value array with the actual value, and a format array with a format value from 1 to 4,\n",
    "#corresponding with the rule formatting\n",
    "#just plot the 4 arrays, different sizes and colors, if one violates all they become a combination of values\n",
    "#1 calls 2, 2 calls 3, 3 calls 4 then returns\n",
    "# The all_vals array is first plotted, then 1, 2, 3, 4 in order of decreasing size, try it\n",
    "#all vals may have to be plotted last, as the smallest formatted datum, the others are larger and different colors\n"
   ]
  },
  {
   "cell_type": "code",
   "execution_count": 150,
   "metadata": {},
   "outputs": [],
   "source": [
    "def testRule1b(obj,newNum, mean, sd):\n",
    "    sigUp = mean + sd*3\n",
    "    sigDown = mean - sd*3\n",
    "    if newNum > sigUp or newNum < sigDown:\n",
    "        obj['format_1'] = np.append(obj['format_1'],1)\n",
    "    return"
   ]
  },
  {
   "cell_type": "code",
   "execution_count": 149,
   "metadata": {},
   "outputs": [],
   "source": [
    "#testing whether there are two out of three consecutive numbers above the line\n",
    "def testRule2b(obj, newNum, mean, sd):\n",
    "    twoSigUp = mean + sd*2\n",
    "    twoSigDown = mean - sd*2\n",
    "    temp_clipped = obj['all_vals'][-2:]\n",
    "    np.append(temp_clipped,newNum)\n",
    "    above2 = temp_clipped > twoSigUp\n",
    "    below2 = temp_clipped < twoSigDown\n",
    "    if (above2.sum(axis=0) >= 2) or (below2.sum(axis=0) >= 2):\n",
    "        obj['format_2'] = np.append(obj['format_2'],2)\n",
    "    return\n",
    "    \n",
    "    "
   ]
  },
  {
   "cell_type": "code",
   "execution_count": 148,
   "metadata": {},
   "outputs": [],
   "source": [
    "def testRule3b(obj, newNum, mean, sd):\n",
    "    oneSigUp = mean + sd\n",
    "    oneSigDown = mean - sd\n",
    "    temp_clipped = obj['all_vals'][-5:]\n",
    "    np.append(temp_clipped,newNum)\n",
    "    above1 = temp_clipped > oneSigUp\n",
    "    below1 = temp_clipped < oneSigDown\n",
    "    if (above1.sum(axis=0) >= 4) or (below1.sum(axis=0) >= 4):\n",
    "        obj['format_2'] = np.append(obj['format_2'],3)\n",
    "    return"
   ]
  },
  {
   "cell_type": "code",
   "execution_count": 147,
   "metadata": {},
   "outputs": [],
   "source": [
    "def testRule4b(obj, newNum, mean):\n",
    "    temp_clipped = obj['all_vals'][-8:]\n",
    "    np.append(temp_clipped,newNum)\n",
    "    above = temp_clipped > mean\n",
    "    below = temp_clipped < mean\n",
    "    if (above.sum(axis=0) >= 9) or (below.sum(axis=0) >= 9):\n",
    "        obj['format_4'] = np.append(obj['format_4'],4)\n",
    "    return"
   ]
  },
  {
   "cell_type": "code",
   "execution_count": 151,
   "metadata": {},
   "outputs": [],
   "source": [
    "def violations(obj,datum):\n",
    "    \n",
    "    theMean = np.mean(obj['all_vals'])\n",
    "    sd = np.std(obj['all_vals'])\n",
    "    testRule1b(trendObj,datum, theMean, sd)\n",
    "    testRule2b(trendObj,datum, theMean, sd)\n",
    "    testRule3b(trendObj,datum, theMean, sd)\n",
    "    testRule4b(trendObj,datum, theMean)\n",
    "    return"
   ]
  },
  {
   "cell_type": "code",
   "execution_count": 162,
   "metadata": {},
   "outputs": [],
   "source": [
    "def assign_datum(obj,datum = None):\n",
    "    if(datum is None):\n",
    "        datum = rando()\n",
    "    violations(obj,datum)\n",
    "    obj['all_vals'] = np.append(obj['all_vals'],datum)\n",
    "    print(len(obj['all_vals']))\n",
    "    return\n",
    "    "
   ]
  },
  {
   "cell_type": "code",
   "execution_count": 152,
   "metadata": {},
   "outputs": [],
   "source": [
    "trendObj = {'all_vals': np.random.randint(50, 100, size=100),\n",
    "            'format_1': np.zeros(100),\n",
    "            'format_2': np.zeros(100),\n",
    "            'format_3': np.zeros(100),\n",
    "            'format_4': np.zeros(100),\n",
    "           }\n"
   ]
  },
  {
   "cell_type": "code",
   "execution_count": 165,
   "metadata": {},
   "outputs": [
    {
     "name": "stdout",
     "output_type": "stream",
     "text": [
      "104\n"
     ]
    }
   ],
   "source": [
    "assign_datum(trendObj,130)"
   ]
  },
  {
   "cell_type": "code",
   "execution_count": 156,
   "metadata": {},
   "outputs": [],
   "source": [
    "def format_arr(rule):\n",
    "    rule_arr = 'format_' + str(rule)\n",
    "    return [index for index,val in enumerate(trendObj[rule_arr]) if val==rule]\n"
   ]
  },
  {
   "cell_type": "code",
   "execution_count": null,
   "metadata": {},
   "outputs": [],
   "source": [
    "#index is off for the formatting"
   ]
  },
  {
   "cell_type": "code",
   "execution_count": 166,
   "metadata": {},
   "outputs": [
    {
     "data": {
      "image/png": "[encoded data removed]",
      "text/plain": [
       "<Figure size 432x288 with 1 Axes>"
      ]
     },
     "metadata": {
      "needs_background": "light"
     },
     "output_type": "display_data"
    }
   ],
   "source": [
    "plt.plot(trendObj['all_vals'], color='blue',markevery=format_arr(1), ls=\"\", marker=8, label=\"Rule1\", markersize=10.0)\n",
    "plt.plot(trendObj['all_vals'], color='blue',markevery=format_arr(2), ls=\"\", marker=9, label=\"Rule2\", markersize=10.0)\n",
    "plt.plot(trendObj['all_vals'], color='blue',markevery=format_arr(3), ls=\"\", marker=10, label=\"Rule3\", markersize=10.0)\n",
    "plt.plot(trendObj['all_vals'], color='blue',markevery=format_arr(4), ls=\"\", marker=11, label=\"Rule4\", markersize=10.0)\n",
    "plt.plot(trendObj['all_vals'], color='green', ls=\"\", marker=\"o\", markersize=4.0)\n",
    "plt.axhline(y=np.mean(trendObj['all_vals']), linewidth=1, color='r')\n",
    "plt.legend()\n",
    "plt.ylim(-40, 150)\n",
    "#plt.plot([0,len(trendObj['all_vals'])],[np.mean(trendObj['all_vals']),np.mean(trendObj['all_vals'])],'go--',linewidth=2)\n",
    "plt.show()"
   ]
  },
  {
   "cell_type": "code",
   "execution_count": 66,
   "metadata": {},
   "outputs": [
    {
     "data": {
      "image/png": "[encoded data removed]",
      "text/plain": [
       "<Figure size 432x288 with 1 Axes>"
      ]
     },
     "metadata": {
      "needs_background": "light"
     },
     "output_type": "display_data"
    }
   ],
   "source": [
    "plt.ylim(-50, 150)\n",
    "plt.plot(trendObj['all_vals'],'bo')\n",
    "arr_mean = np.mean(trendObj['all_vals'])\n",
    "plt.plot([0,100],[arr_mean,arr_mean],'go--',linewidth=2)\n",
    "#plt.plot(trendObj['all_vals', color='red',markevery=flag, ls=\"\", marker=\"+\", label=\"points\")\n",
    "#markevery will use the index to format the values\n",
    "plt.show()"
   ]
  },
  {
   "cell_type": "code",
   "execution_count": 6,
   "metadata": {},
   "outputs": [],
   "source": [
    "def proceed(num):\n",
    "    while True:\n",
    "        result = input(\"Add to data set? (y/n) \\n\")\n",
    "        if result.lower() not in ('y','n'):\n",
    "            print('Sorry, not a valid response')\n",
    "            continue\n",
    "        else:\n",
    "            break\n",
    "    if result == 'y':\n",
    "        myArr.append(num)\n",
    "        print(\"New datum added to list\")\n",
    "     \n",
    "    "
   ]
  },
  {
   "cell_type": "code",
   "execution_count": 8,
   "metadata": {},
   "outputs": [
    {
     "name": "stdout",
     "output_type": "stream",
     "text": [
      "Rule 1 Violation. Lower Control Limit (LCL mean - 3SD) is 32.0.\n",
      "Add to data set? (y/n) \n",
      "n\n",
      "Continue with monitoring (y/n)? \n",
      "y\n"
     ]
    }
   ],
   "source": [
    "testRule1(myArr,5)"
   ]
  },
  {
   "cell_type": "code",
   "execution_count": 25,
   "metadata": {},
   "outputs": [
    {
     "name": "stdout",
     "output_type": "stream",
     "text": [
      "Should I keep going? \n",
      "y\n",
      "Should I keep going? \n",
      "n\n",
      "Ok, thanks for playing!\n"
     ]
    }
   ],
   "source": [
    "keepGoing = True\n",
    "while keepGoing:\n",
    "    question = input(\"Should I keep going? \\n\")\n",
    "    if question == 'n':\n",
    "        print(\"Ok, thanks for playing!\")\n",
    "        keepGoing = False"
   ]
  },
  {
   "cell_type": "markdown",
   "metadata": {},
   "source": [
    "Rule 2: Two out of three consecutive points fall beyond the 2σ-limit (in zone A or beyond), on the same side of the centerline"
   ]
  },
  {
   "cell_type": "code",
   "execution_count": 67,
   "metadata": {},
   "outputs": [],
   "source": [
    "#testing whether there are two out of three consecutive numbers above the line\n",
    "def testRule2(arr, newNum):\n",
    "    themean = stat.mean(arr)\n",
    "    sd = stat.stdev(arr)\n",
    "    twoSigUp = themean + sd*2\n",
    "    twoSigDown = themean - sd*2\n",
    "    arr.append(newNum)\n",
    "    clipped = np.array(arr)[-3:]\n",
    "    above2 = clipped > twoSigUp\n",
    "    below2 = clipped < twoSigDown\n",
    "    print(f'low: {round(twoSigDown,1)}, high: {round(twoSigUp,1)}')\n",
    "    if (above2.sum(axis=0) >= 2) or (below2.sum(axis=0) >= 2):\n",
    "        print(\"Violation\")\n",
    "        print(clipped)\n",
    "    else:\n",
    "        print(\"all good\")\n",
    "    \n",
    "    "
   ]
  },
  {
   "cell_type": "code",
   "execution_count": 68,
   "metadata": {},
   "outputs": [],
   "source": [
    "myList = [3,4,3,6,5,4,7,7]"
   ]
  },
  {
   "cell_type": "code",
   "execution_count": 69,
   "metadata": {},
   "outputs": [
    {
     "name": "stdout",
     "output_type": "stream",
     "text": [
      "low: 1.6, high: 8.2\n",
      "all good\n"
     ]
    }
   ],
   "source": [
    "testRule2(myList, 20)"
   ]
  },
  {
   "cell_type": "code",
   "execution_count": null,
   "metadata": {},
   "outputs": [],
   "source": [
    "#myArr = [1,2,3,3,4,2,5,4]\n",
    "myArr = list(np.random.randint(50, 100, size=100))"
   ]
  },
  {
   "cell_type": "markdown",
   "metadata": {},
   "source": [
    "Rule 3: Four out of five consecutive points fall beyond the 1σ-limit (in zone B or beyond), on the same side of the centerline."
   ]
  },
  {
   "cell_type": "code",
   "execution_count": 78,
   "metadata": {},
   "outputs": [],
   "source": [
    "def testRule3(arr, newNum):\n",
    "    themean = stat.mean(arr)\n",
    "    sd = stat.stdev(arr)\n",
    "    oneSigUp = themean + sd\n",
    "    oneSigDown = themean - sd\n",
    "    arr.append(newNum)\n",
    "    clipped = np.array(arr)[-5:]\n",
    "    above2 = clipped > oneSigUp\n",
    "    below2 = clipped < oneSigDown\n",
    "    print(f'low: {round(oneSigDown,1)}, high: {round(oneSigUp,1)}')\n",
    "    if (above2.sum(axis=0) >= 4) or (below2.sum(axis=0) >= 4):\n",
    "        print(\"Violation\")\n",
    "        print(clipped)\n",
    "    else:\n",
    "        print(\"all good\")"
   ]
  },
  {
   "cell_type": "code",
   "execution_count": 83,
   "metadata": {},
   "outputs": [],
   "source": [
    "rule3List = [3,4,3,6,5,4,7,7,8,10,15,10,10,15]"
   ]
  },
  {
   "cell_type": "code",
   "execution_count": 84,
   "metadata": {},
   "outputs": [
    {
     "name": "stdout",
     "output_type": "stream",
     "text": [
      "low: 3.7, high: 11.6\n",
      "all good\n"
     ]
    }
   ],
   "source": [
    "testRule3(rule3List,15)"
   ]
  },
  {
   "cell_type": "markdown",
   "metadata": {},
   "source": [
    "Rule 4\tNINE consecutive points fall on the same side of the centerline (in zone C or beyond)"
   ]
  },
  {
   "cell_type": "code",
   "execution_count": 98,
   "metadata": {},
   "outputs": [],
   "source": [
    "def testRule4(arr, newNum):\n",
    "    theMean = stat.mean(arr)\n",
    "    sd = stat.stdev(arr)\n",
    "    arr.append(newNum)\n",
    "    clipped = np.array(arr)[-9:]\n",
    "    above = clipped > theMean\n",
    "    below = clipped < theMean\n",
    "    print(f'mean:{round(theMean,1)}')\n",
    "    if (above.sum(axis=0) >= 9) or (below.sum(axis=0) >= 9):\n",
    "        print(\"Violation\")\n",
    "        print(clipped)\n",
    "    else:\n",
    "        print(\"all good\")"
   ]
  },
  {
   "cell_type": "code",
   "execution_count": 103,
   "metadata": {},
   "outputs": [],
   "source": [
    "rule4List = [3,4,3,6,5,4,7,7,8,10,15,10,10,15,15,15,15,15]"
   ]
  },
  {
   "cell_type": "code",
   "execution_count": 104,
   "metadata": {},
   "outputs": [
    {
     "name": "stdout",
     "output_type": "stream",
     "text": [
      "mean:9.3\n",
      "Violation\n",
      "[15 10 10 15 15 15 15 15 15]\n"
     ]
    }
   ],
   "source": [
    "testRule4(rule4List,15)"
   ]
  },
  {
   "cell_type": "code",
   "execution_count": null,
   "metadata": {},
   "outputs": [],
   "source": []
  }
 ],
 "metadata": {
  "kernelspec": {
   "display_name": "Python 3",
   "language": "python",
   "name": "python3"
  },
  "language_info": {
   "codemirror_mode": {
    "name": "ipython",
    "version": 3
   },
   "file_extension": ".py",
   "mimetype": "text/x-python",
   "name": "python",
   "nbconvert_exporter": "python",
   "pygments_lexer": "ipython3",
   "version": "3.7.3"
  }
 },
 "nbformat": 4,
 "nbformat_minor": 2
}
