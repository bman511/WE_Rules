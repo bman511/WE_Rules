{
 "cells": [
  {
   "cell_type": "code",
   "execution_count": 1,
   "metadata": {},
   "outputs": [],
   "source": [
    "import numpy as np"
   ]
  },
  {
   "cell_type": "code",
   "execution_count": 2,
   "metadata": {},
   "outputs": [],
   "source": [
    "import pandas as pd\n",
    "import matplotlib.pyplot as plt\n",
    "import statistics as stat"
   ]
  },
  {
   "cell_type": "markdown",
   "metadata": {},
   "source": [
    "### Western Electric Rules"
   ]
  },
  {
   "cell_type": "markdown",
   "metadata": {},
   "source": [
    "Rule 1: Any single data point falls outside the 3σ-limit from the centerline (i.e., any point that falls outside Zone A, beyond either the upper or lower control limit)"
   ]
  },
  {
   "cell_type": "code",
   "execution_count": 56,
   "metadata": {},
   "outputs": [],
   "source": [
    "#myArr = [1,2,3,3,4,2,5,4]\n",
    "#myArr = pd.Series(np.random.randint(50, 100, size=100))\n",
    "myArr = np.random.randint(50, 100, size=100)"
   ]
  },
  {
   "cell_type": "code",
   "execution_count": null,
   "metadata": {},
   "outputs": [],
   "source": [
    "#np.append(myArr,1)"
   ]
  },
  {
   "cell_type": "code",
   "execution_count": 50,
   "metadata": {},
   "outputs": [
    {
     "data": {
      "text/plain": [
       "74.94"
      ]
     },
     "execution_count": 50,
     "metadata": {},
     "output_type": "execute_result"
    }
   ],
   "source": [
    "arr_mean = np.mean(myArr)\n",
    "arr_mean"
   ]
  },
  {
   "cell_type": "code",
   "execution_count": 51,
   "metadata": {},
   "outputs": [],
   "source": [
    "flag = [21,22,23,24]"
   ]
  },
  {
   "cell_type": "code",
   "execution_count": 52,
   "metadata": {},
   "outputs": [
    {
     "data": {
      "image/png": "[encoded data removed]",
      "text/plain": [
       "<Figure size 432x288 with 1 Axes>"
      ]
     },
     "metadata": {
      "needs_background": "light"
     },
     "output_type": "display_data"
    }
   ],
   "source": [
    "plt.ylim(-50, 150)\n",
    "plt.plot(myArr,'bo')\n",
    "plt.plot([0,100],[arr_mean,arr_mean],'go--',linewidth=2)\n",
    "plt.plot(myArr, color='red',markevery=flag, ls=\"\", marker=\"+\", label=\"points\")\n",
    "plt.show()"
   ]
  },
  {
   "cell_type": "code",
   "execution_count": 33,
   "metadata": {},
   "outputs": [],
   "source": [
    "def rando():\n",
    "    theNum = np.random.randint(50,100)\n",
    "    return theNum"
   ]
  },
  {
   "cell_type": "code",
   "execution_count": 34,
   "metadata": {},
   "outputs": [],
   "source": [
    "def testRule1(arr,newNum):\n",
    "    themean = stat.mean(arr)\n",
    "    sd = stat.stdev(arr)\n",
    "    sigUp = themean + sd*3\n",
    "    sigDown = themean - sd*3\n",
    "    if newNum > sigUp:\n",
    "        print(f\"Rule 1 Violation. Upper Control Limit (UCL -- mean + 3SD) is {round(sigUp,1)}\")\n",
    "        proceed(newNum)\n",
    "    elif newNum < sigDown:\n",
    "        print(f\"Rule 1 Violation. Lower Control Limit (LCL mean - 3SD) is {round(sigDown,1)}.\")\n",
    "        proceed(newNum)\n",
    "    else:\n",
    "        myArr.append(newNum)\n",
    "        print(\"New datum added to list\")\n",
    "        print(f\"New array: {myArr}\")\n",
    "    keepOn = input(\"Continue with monitoring (y/n)? \\n\")\n",
    "        \n",
    "    "
   ]
  },
  {
   "cell_type": "code",
   "execution_count": null,
   "metadata": {},
   "outputs": [],
   "source": [
    "#Need to figure out the order of operators of the formatting\n",
    "#Rule 1 through 4, return if positive\n",
    "#Or, could just do a combo of formats\n",
    "#Fill color, size, marker, and edge\n",
    "#Maybe have two arrays, a value array with the actual value, and a format array with a format value from 1 to 4,\n",
    "#corresponding with the rule formatting"
   ]
  },
  {
   "cell_type": "code",
   "execution_count": 167,
   "metadata": {},
   "outputs": [],
   "source": [
    "def testRule1b(obj,newNum):\n",
    "    themean = np.mean(obj['all_vals'])\n",
    "    sd = np.std(obj['all_vals'])\n",
    "    sigUp = themean + sd*3\n",
    "    sigDown = themean - sd*3\n",
    "    if newNum > sigUp or newNum < sigDown:\n",
    "        obj['format_arr'] = np.append(obj['format_arr'],1)       \n",
    "        return True\n",
    "    return"
   ]
  },
  {
   "cell_type": "code",
   "execution_count": 158,
   "metadata": {},
   "outputs": [],
   "source": [
    "#testing whether there are two out of three consecutive numbers above the line\n",
    "def testRule2b(obj, newNum):\n",
    "    themean = np.mean(obj['all_vals'])\n",
    "    sd = np.std(obj['all_vals'])\n",
    "    twoSigUp = themean + sd*2\n",
    "    twoSigDown = themean - sd*2\n",
    "    temp_clipped = obj['all_vals'][-2:]\n",
    "    np.append(temp_clipped,newNum)\n",
    "    above2 = temp_clipped > twoSigUp\n",
    "    below2 = temp_clipped < twoSigDown\n",
    "    if (above2.sum(axis=0) >= 2) or (below2.sum(axis=0) >= 2):\n",
    "        obj['format_arr'] = np.append(obj['format_arr'],2)\n",
    "        return True\n",
    "    return\n",
    "    \n",
    "    "
   ]
  },
  {
   "cell_type": "code",
   "execution_count": 153,
   "metadata": {},
   "outputs": [],
   "source": [
    "def testRule3b(obj, newNum):\n",
    "    themean = np.mean(obj['all_vals'])\n",
    "    sd = np.std(obj['all_vals'])\n",
    "    oneSigUp = themean + sd\n",
    "    oneSigDown = themean - sd\n",
    "    temp_clipped = obj['all_vals'][-5:]\n",
    "    np.append(temp_clipped,newNum)\n",
    "    above1 = temp_clipped > oneSigUp\n",
    "    below1 = temp_clipped < oneSigDown\n",
    "    if (above1.sum(axis=0) >= 4) or (below1.sum(axis=0) >= 4):\n",
    "        obj['format_arr'] = np.append(obj['format_arr'],3)\n",
    "        return True\n",
    "    return"
   ]
  },
  {
   "cell_type": "code",
   "execution_count": 161,
   "metadata": {},
   "outputs": [],
   "source": [
    "def testRule4b(obj, newNum):\n",
    "    theMean = np.mean(obj['all_vals'])\n",
    "    sd = np.std(obj['all_vals'])\n",
    "    temp_clipped = obj['all_vals'][-8:]\n",
    "    np.append(temp_clipped,newNum)\n",
    "    above = temp_clipped > theMean\n",
    "    below = temp_clipped < theMean\n",
    "    if (above.sum(axis=0) >= 9) or (below.sum(axis=0) >= 9):\n",
    "        obj['format_arr'] = np.append(obj['format_arr'],4)\n",
    "        return True\n",
    "    return"
   ]
  },
  {
   "cell_type": "code",
   "execution_count": 173,
   "metadata": {},
   "outputs": [],
   "source": [
    "def violations(obj,datum):\n",
    "    if(testRule1b(trendObj,datum)):\n",
    "        print(obj['format_arr'])\n",
    "        return 1\n",
    "    elif(testRule2b(trendObj,datum)):\n",
    "        print(obj['format_arr'])\n",
    "        return 1\n",
    "    elif(testRule3b(trendObj,datum)):\n",
    "        print(obj['format_arr'])\n",
    "        return 1\n",
    "    elif(testRule4b(trendObj,datum)):\n",
    "        return 1\n",
    "        print(obj['format_arr'])\n",
    "    return 0"
   ]
  },
  {
   "cell_type": "code",
   "execution_count": 174,
   "metadata": {},
   "outputs": [],
   "source": [
    "def assign_datum(obj,datum):\n",
    "    if(not violations(obj,datum)):\n",
    "        obj['format_arr'] = np.append(obj['format_arr'],0)\n",
    "    obj['all_vals'] = np.append(obj['all_vals'],datum)\n",
    "    print(obj['format_arr'])\n",
    "    print(len(obj['format_arr']))\n",
    "    print(obj['all_vals'])\n",
    "    print(len(obj['all_vals']))\n",
    "    return\n",
    "    "
   ]
  },
  {
   "cell_type": "code",
   "execution_count": 168,
   "metadata": {},
   "outputs": [],
   "source": [
    "trendObj = {'all_vals':np.random.randint(50, 100, size=100),\n",
    "            'format_arr':np.zeros(100)\n",
    "           }\n"
   ]
  },
  {
   "cell_type": "code",
   "execution_count": 169,
   "metadata": {},
   "outputs": [
    {
     "name": "stdout",
     "output_type": "stream",
     "text": [
      "[0. 0. 0. 0. 0. 0. 0. 0. 0. 0. 0. 0. 0. 0. 0. 0. 0. 0. 0. 0. 0. 0. 0. 0.\n",
      " 0. 0. 0. 0. 0. 0. 0. 0. 0. 0. 0. 0. 0. 0. 0. 0. 0. 0. 0. 0. 0. 0. 0. 0.\n",
      " 0. 0. 0. 0. 0. 0. 0. 0. 0. 0. 0. 0. 0. 0. 0. 0. 0. 0. 0. 0. 0. 0. 0. 0.\n",
      " 0. 0. 0. 0. 0. 0. 0. 0. 0. 0. 0. 0. 0. 0. 0. 0. 0. 0. 0. 0. 0. 0. 0. 0.\n",
      " 0. 0. 0. 0. 1.]\n",
      "[0. 0. 0. 0. 0. 0. 0. 0. 0. 0. 0. 0. 0. 0. 0. 0. 0. 0. 0. 0. 0. 0. 0. 0.\n",
      " 0. 0. 0. 0. 0. 0. 0. 0. 0. 0. 0. 0. 0. 0. 0. 0. 0. 0. 0. 0. 0. 0. 0. 0.\n",
      " 0. 0. 0. 0. 0. 0. 0. 0. 0. 0. 0. 0. 0. 0. 0. 0. 0. 0. 0. 0. 0. 0. 0. 0.\n",
      " 0. 0. 0. 0. 0. 0. 0. 0. 0. 0. 0. 0. 0. 0. 0. 0. 0. 0. 0. 0. 0. 0. 0. 0.\n",
      " 0. 0. 0. 0. 1.]\n",
      "101\n",
      "[ 50  51  78  91  52  94  79  71  98  88  52  91  56  82  89  79  94  50\n",
      "  79  67  55  90  54  80  85  83  79  69  50  84  92  68  64  56  79  61\n",
      "  78  67  53  62  85  97  72  51  81  80  63  73  96  67  75  50  51  76\n",
      "  84  80  64  76  81  98  98  85  54  65  86  95  72  64  55  51  95  98\n",
      "  56  95  97  68  88  56  51  83  82  90  81  87  80  84  76  70  76  77\n",
      "  84  62  61  77  91  56  76  80  63  54 130]\n",
      "101\n"
     ]
    }
   ],
   "source": [
    "assign_datum(trendObj,130)"
   ]
  },
  {
   "cell_type": "code",
   "execution_count": 126,
   "metadata": {},
   "outputs": [
    {
     "data": {
      "text/plain": [
       "array([1, 2, 3, 1])"
      ]
     },
     "execution_count": 126,
     "metadata": {},
     "output_type": "execute_result"
    }
   ],
   "source": [
    "arr = np.array([1,2,3])\n",
    "np.append(arr,[1])\n"
   ]
  },
  {
   "cell_type": "code",
   "execution_count": 127,
   "metadata": {},
   "outputs": [
    {
     "data": {
      "text/plain": [
       "array([1, 2, 3])"
      ]
     },
     "execution_count": 127,
     "metadata": {},
     "output_type": "execute_result"
    }
   ],
   "source": [
    "arr"
   ]
  },
  {
   "cell_type": "code",
   "execution_count": 6,
   "metadata": {},
   "outputs": [],
   "source": [
    "def proceed(num):\n",
    "    while True:\n",
    "        result = input(\"Add to data set? (y/n) \\n\")\n",
    "        if result.lower() not in ('y','n'):\n",
    "            print('Sorry, not a valid response')\n",
    "            continue\n",
    "        else:\n",
    "            break\n",
    "    if result == 'y':\n",
    "        myArr.append(num)\n",
    "        print(\"New datum added to list\")\n",
    "     \n",
    "    "
   ]
  },
  {
   "cell_type": "code",
   "execution_count": 8,
   "metadata": {},
   "outputs": [
    {
     "name": "stdout",
     "output_type": "stream",
     "text": [
      "Rule 1 Violation. Lower Control Limit (LCL mean - 3SD) is 32.0.\n",
      "Add to data set? (y/n) \n",
      "n\n",
      "Continue with monitoring (y/n)? \n",
      "y\n"
     ]
    }
   ],
   "source": [
    "testRule1(myArr,5)"
   ]
  },
  {
   "cell_type": "code",
   "execution_count": 25,
   "metadata": {},
   "outputs": [
    {
     "name": "stdout",
     "output_type": "stream",
     "text": [
      "Should I keep going? \n",
      "y\n",
      "Should I keep going? \n",
      "n\n",
      "Ok, thanks for playing!\n"
     ]
    }
   ],
   "source": [
    "keepGoing = True\n",
    "while keepGoing:\n",
    "    question = input(\"Should I keep going? \\n\")\n",
    "    if question == 'n':\n",
    "        print(\"Ok, thanks for playing!\")\n",
    "        keepGoing = False"
   ]
  },
  {
   "cell_type": "markdown",
   "metadata": {},
   "source": [
    "Rule 2: Two out of three consecutive points fall beyond the 2σ-limit (in zone A or beyond), on the same side of the centerline"
   ]
  },
  {
   "cell_type": "code",
   "execution_count": 67,
   "metadata": {},
   "outputs": [],
   "source": [
    "#testing whether there are two out of three consecutive numbers above the line\n",
    "def testRule2(arr, newNum):\n",
    "    themean = stat.mean(arr)\n",
    "    sd = stat.stdev(arr)\n",
    "    twoSigUp = themean + sd*2\n",
    "    twoSigDown = themean - sd*2\n",
    "    arr.append(newNum)\n",
    "    clipped = np.array(arr)[-3:]\n",
    "    above2 = clipped > twoSigUp\n",
    "    below2 = clipped < twoSigDown\n",
    "    print(f'low: {round(twoSigDown,1)}, high: {round(twoSigUp,1)}')\n",
    "    if (above2.sum(axis=0) >= 2) or (below2.sum(axis=0) >= 2):\n",
    "        print(\"Violation\")\n",
    "        print(clipped)\n",
    "    else:\n",
    "        print(\"all good\")\n",
    "    \n",
    "    "
   ]
  },
  {
   "cell_type": "code",
   "execution_count": 68,
   "metadata": {},
   "outputs": [],
   "source": [
    "myList = [3,4,3,6,5,4,7,7]"
   ]
  },
  {
   "cell_type": "code",
   "execution_count": 69,
   "metadata": {},
   "outputs": [
    {
     "name": "stdout",
     "output_type": "stream",
     "text": [
      "low: 1.6, high: 8.2\n",
      "all good\n"
     ]
    }
   ],
   "source": [
    "testRule2(myList, 20)"
   ]
  },
  {
   "cell_type": "code",
   "execution_count": null,
   "metadata": {},
   "outputs": [],
   "source": [
    "#myArr = [1,2,3,3,4,2,5,4]\n",
    "myArr = list(np.random.randint(50, 100, size=100))"
   ]
  },
  {
   "cell_type": "markdown",
   "metadata": {},
   "source": [
    "Rule 3: Four out of five consecutive points fall beyond the 1σ-limit (in zone B or beyond), on the same side of the centerline."
   ]
  },
  {
   "cell_type": "code",
   "execution_count": 78,
   "metadata": {},
   "outputs": [],
   "source": [
    "def testRule3(arr, newNum):\n",
    "    themean = stat.mean(arr)\n",
    "    sd = stat.stdev(arr)\n",
    "    oneSigUp = themean + sd\n",
    "    oneSigDown = themean - sd\n",
    "    arr.append(newNum)\n",
    "    clipped = np.array(arr)[-5:]\n",
    "    above2 = clipped > oneSigUp\n",
    "    below2 = clipped < oneSigDown\n",
    "    print(f'low: {round(oneSigDown,1)}, high: {round(oneSigUp,1)}')\n",
    "    if (above2.sum(axis=0) >= 4) or (below2.sum(axis=0) >= 4):\n",
    "        print(\"Violation\")\n",
    "        print(clipped)\n",
    "    else:\n",
    "        print(\"all good\")"
   ]
  },
  {
   "cell_type": "code",
   "execution_count": 83,
   "metadata": {},
   "outputs": [],
   "source": [
    "rule3List = [3,4,3,6,5,4,7,7,8,10,15,10,10,15]"
   ]
  },
  {
   "cell_type": "code",
   "execution_count": 84,
   "metadata": {},
   "outputs": [
    {
     "name": "stdout",
     "output_type": "stream",
     "text": [
      "low: 3.7, high: 11.6\n",
      "all good\n"
     ]
    }
   ],
   "source": [
    "testRule3(rule3List,15)"
   ]
  },
  {
   "cell_type": "markdown",
   "metadata": {},
   "source": [
    "Rule 4\tNINE consecutive points fall on the same side of the centerline (in zone C or beyond)"
   ]
  },
  {
   "cell_type": "code",
   "execution_count": 98,
   "metadata": {},
   "outputs": [],
   "source": [
    "def testRule4(arr, newNum):\n",
    "    theMean = stat.mean(arr)\n",
    "    sd = stat.stdev(arr)\n",
    "    arr.append(newNum)\n",
    "    clipped = np.array(arr)[-9:]\n",
    "    above = clipped > theMean\n",
    "    below = clipped < theMean\n",
    "    print(f'mean:{round(theMean,1)}')\n",
    "    if (above.sum(axis=0) >= 9) or (below.sum(axis=0) >= 9):\n",
    "        print(\"Violation\")\n",
    "        print(clipped)\n",
    "    else:\n",
    "        print(\"all good\")"
   ]
  },
  {
   "cell_type": "code",
   "execution_count": 103,
   "metadata": {},
   "outputs": [],
   "source": [
    "rule4List = [3,4,3,6,5,4,7,7,8,10,15,10,10,15,15,15,15,15]"
   ]
  },
  {
   "cell_type": "code",
   "execution_count": 104,
   "metadata": {},
   "outputs": [
    {
     "name": "stdout",
     "output_type": "stream",
     "text": [
      "mean:9.3\n",
      "Violation\n",
      "[15 10 10 15 15 15 15 15 15]\n"
     ]
    }
   ],
   "source": [
    "testRule4(rule4List,15)"
   ]
  },
  {
   "cell_type": "code",
   "execution_count": null,
   "metadata": {},
   "outputs": [],
   "source": []
  }
 ],
 "metadata": {
  "kernelspec": {
   "display_name": "Python 3",
   "language": "python",
   "name": "python3"
  },
  "language_info": {
   "codemirror_mode": {
    "name": "ipython",
    "version": 3
   },
   "file_extension": ".py",
   "mimetype": "text/x-python",
   "name": "python",
   "nbconvert_exporter": "python",
   "pygments_lexer": "ipython3",
   "version": "3.7.3"
  }
 },
 "nbformat": 4,
 "nbformat_minor": 2
}
