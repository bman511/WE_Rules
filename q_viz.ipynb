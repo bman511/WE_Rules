{
 "cells": [
  {
   "cell_type": "code",
   "execution_count": 8,
   "metadata": {},
   "outputs": [],
   "source": [
    "import numpy as np\n",
    "import pandas as pd\n",
    "import matplotlib.pyplot as plt\n",
    "import statistics as stat"
   ]
  },
  {
   "cell_type": "markdown",
   "metadata": {},
   "source": [
    "### Western Electric Rules"
   ]
  },
  {
   "cell_type": "markdown",
   "metadata": {},
   "source": [
    "Rule 1: Any single data point falls outside the 3σ-limit from the centerline (i.e., any point that falls outside Zone A, beyond either the upper or lower control limit)"
   ]
  },
  {
   "cell_type": "code",
   "execution_count": 2,
   "metadata": {},
   "outputs": [],
   "source": [
    "#myArr = [1,2,3,3,4,2,5,4]\n",
    "#myArr = pd.Series(np.random.randint(50, 100, size=100))\n",
    "myArr = np.random.randint(50, 100, size=100)"
   ]
  },
  {
   "cell_type": "code",
   "execution_count": 3,
   "metadata": {},
   "outputs": [],
   "source": [
    "#np.append(myArr,1)"
   ]
  },
  {
   "cell_type": "code",
   "execution_count": 4,
   "metadata": {},
   "outputs": [
    {
     "data": {
      "text/plain": [
       "74.27"
      ]
     },
     "execution_count": 4,
     "metadata": {},
     "output_type": "execute_result"
    }
   ],
   "source": [
    "arr_mean = np.mean(myArr)\n",
    "arr_mean"
   ]
  },
  {
   "cell_type": "code",
   "execution_count": 5,
   "metadata": {},
   "outputs": [],
   "source": [
    "flag = [21,22,23,24]"
   ]
  },
  {
   "cell_type": "code",
   "execution_count": 6,
   "metadata": {},
   "outputs": [
    {
     "data": {
      "image/png": "[encoded data removed]",
      "text/plain": [
       "<Figure size 432x288 with 1 Axes>"
      ]
     },
     "metadata": {
      "needs_background": "light"
     },
     "output_type": "display_data"
    }
   ],
   "source": [
    "plt.ylim(-50, 150)\n",
    "plt.plot(myArr,'bo')\n",
    "plt.plot([0,100],[arr_mean,arr_mean],'go--',linewidth=2)\n",
    "plt.plot(myArr, color='red',markevery=flag, ls=\"\", marker=\"+\", label=\"points\")\n",
    "plt.show()"
   ]
  },
  {
   "cell_type": "code",
   "execution_count": 7,
   "metadata": {},
   "outputs": [],
   "source": [
    "def rando():\n",
    "    theNum = np.random.randint(50,100)\n",
    "    return theNum"
   ]
  },
  {
   "cell_type": "code",
   "execution_count": 8,
   "metadata": {},
   "outputs": [],
   "source": [
    "def testRule1(arr,newNum):\n",
    "    themean = stat.mean(arr)\n",
    "    sd = stat.stdev(arr)\n",
    "    sigUp = themean + sd*3\n",
    "    sigDown = themean - sd*3\n",
    "    if newNum > sigUp:\n",
    "        print(f\"Rule 1 Violation. Upper Control Limit (UCL -- mean + 3SD) is {round(sigUp,1)}\")\n",
    "        proceed(newNum)\n",
    "    elif newNum < sigDown:\n",
    "        print(f\"Rule 1 Violation. Lower Control Limit (LCL mean - 3SD) is {round(sigDown,1)}.\")\n",
    "        proceed(newNum)\n",
    "    else:\n",
    "        myArr.append(newNum)\n",
    "        print(\"New datum added to list\")\n",
    "        print(f\"New array: {myArr}\")\n",
    "    keepOn = input(\"Continue with monitoring (y/n)? \\n\")\n",
    "        \n",
    "    "
   ]
  },
  {
   "cell_type": "code",
   "execution_count": 9,
   "metadata": {},
   "outputs": [],
   "source": [
    "#Need to figure out the order of operators of the formatting\n",
    "#Rule 1 through 4, return if positive\n",
    "#Or, could just do a combo of formats\n",
    "#Fill color, size, marker, and edge\n",
    "#Maybe have two arrays, a value array with the actual value, and a format array with a format value from 1 to 4,\n",
    "#corresponding with the rule formatting\n",
    "#just plot the 4 arrays, different sizes and colors, if one violates all they become a combination of values\n",
    "#1 calls 2, 2 calls 3, 3 calls 4 then returns\n",
    "# The all_vals array is first plotted, then 1, 2, 3, 4 in order of decreasing size, try it\n",
    "#all vals may have to be plotted last, as the smallest formatted datum, the others are larger and different colors\n"
   ]
  },
  {
   "cell_type": "code",
   "execution_count": 104,
   "metadata": {},
   "outputs": [],
   "source": [
    "def testRule1b(obj,newNum, mean, sd):\n",
    "    sigUp = mean + sd*3\n",
    "    sigDown = mean - sd*3\n",
    "    if newNum > sigUp or newNum < sigDown:\n",
    "        obj['format_1'] = np.append(obj['format_1'],1)\n",
    "    else:\n",
    "        obj['format_1'] = np.append(obj['format_1'],0)\n",
    "    return"
   ]
  },
  {
   "cell_type": "code",
   "execution_count": 105,
   "metadata": {},
   "outputs": [],
   "source": [
    "#testing whether there are two out of three consecutive numbers above the line\n",
    "def testRule2b(obj, newNum, mean, sd):\n",
    "    twoSigUp = mean + sd*2\n",
    "    twoSigDown = mean - sd*2\n",
    "    temp_clipped = obj['all_vals'][-2:]\n",
    "    temp_clipped = np.append(temp_clipped,newNum)\n",
    "    above2 = temp_clipped > twoSigUp\n",
    "    below2 = temp_clipped < twoSigDown\n",
    "    if (above2.sum(axis=0) >= 2) or (below2.sum(axis=0) >= 2):\n",
    "        obj['format_2'] = np.append(obj['format_2'],1)\n",
    "    else:\n",
    "        obj['format_2'] = np.append(obj['format_2'],0)\n",
    "    return\n",
    "    \n",
    "    "
   ]
  },
  {
   "cell_type": "code",
   "execution_count": 106,
   "metadata": {},
   "outputs": [],
   "source": [
    "def testRule3b(obj, newNum, mean, sd):\n",
    "    oneSigUp = mean + sd\n",
    "    oneSigDown = mean - sd\n",
    "    temp_clipped = obj['all_vals'][-5:]\n",
    "    temp_clipped = np.append(temp_clipped,newNum)\n",
    "    above1 = temp_clipped > oneSigUp\n",
    "    below1 = temp_clipped < oneSigDown\n",
    "    if (above1.sum(axis=0) >= 4) or (below1.sum(axis=0) >= 4):\n",
    "        obj['format_3'] = np.append(obj['format_3'],1)\n",
    "    else:\n",
    "        obj['format_3'] = np.append(obj['format_3'],0)\n",
    "    return"
   ]
  },
  {
   "cell_type": "code",
   "execution_count": 107,
   "metadata": {},
   "outputs": [],
   "source": [
    "def testRule4b(obj, newNum, mean):\n",
    "    temp_clipped = obj['all_vals'][-8:]\n",
    "    temp_clipped = np.append(temp_clipped,newNum)\n",
    "    above = temp_clipped > mean\n",
    "    below = temp_clipped < mean\n",
    "    if (above.sum(axis=0) >= 9) or (below.sum(axis=0) >= 9):\n",
    "        obj['format_4'] = np.append(obj['format_4'],1)\n",
    "    else:\n",
    "        obj['format_4'] = np.append(obj['format_4'],0)\n",
    "    return"
   ]
  },
  {
   "cell_type": "code",
   "execution_count": 108,
   "metadata": {},
   "outputs": [],
   "source": [
    "def violations(obj,datum):\n",
    "    \n",
    "    theMean = np.mean(obj['all_vals'])\n",
    "    sd = np.std(obj['all_vals'])\n",
    "    testRule1b(obj,datum, theMean, sd)\n",
    "    testRule2b(obj,datum, theMean, sd)\n",
    "    testRule3b(obj,datum, theMean, sd)\n",
    "    testRule4b(obj,datum, theMean)\n",
    "    return"
   ]
  },
  {
   "cell_type": "code",
   "execution_count": 109,
   "metadata": {},
   "outputs": [],
   "source": [
    "def assign_datum(obj,datum = None):\n",
    "    if(datum is None):\n",
    "        datum = rando()\n",
    "    violations(obj,datum)\n",
    "    obj['all_vals'] = np.append(obj['all_vals'],datum)\n",
    "    print(obj['all_vals'])\n",
    "    print(obj['format_4'])\n",
    "    print(obj['format_3'])\n",
    "    print(obj['format_2'])\n",
    "    print(obj['format_1'])\n",
    "    return\n",
    "    "
   ]
  },
  {
   "cell_type": "code",
   "execution_count": 110,
   "metadata": {},
   "outputs": [],
   "source": [
    "trendObj = {'all_vals': np.random.randint(50, 100, size=100),\n",
    "            'format_1': np.zeros(100),\n",
    "            'format_2': np.zeros(100),\n",
    "            'format_3': np.zeros(100),\n",
    "            'format_4': np.zeros(100),\n",
    "           }\n"
   ]
  },
  {
   "cell_type": "code",
   "execution_count": 111,
   "metadata": {},
   "outputs": [],
   "source": [
    "#formatting for chart\n",
    "def format_arr(rule):\n",
    "    rule_arr = 'format_' + str(rule)\n",
    "    return [index for index,val in enumerate(trendObj[rule_arr]) if val]\n"
   ]
  },
  {
   "cell_type": "code",
   "execution_count": 69,
   "metadata": {},
   "outputs": [],
   "source": [
    "#index is off for the formatting"
   ]
  },
  {
   "cell_type": "code",
   "execution_count": 113,
   "metadata": {},
   "outputs": [
    {
     "name": "stdout",
     "output_type": "stream",
     "text": [
      "[ 72  68  74  57  65  78  65  84  78  72  86  64  71  79  95  70  74  94\n",
      "  69  99  62  79  64  71  67  86  57  84  81  74  71  91  62  62  97  76\n",
      "  57  66  96  83  85  65  77  78  89  81  88  96  59  62  71  62  70  91\n",
      "  96  74  76  75  73  72  58  68  59  98  66  72  52  83  89  50  80  64\n",
      "  51  54  74  94  85  69  50  94  83  62  53  52  53  75  53  65  85  68\n",
      "  59  79  91  64  77  95  53  59  58  54 102 102]\n",
      "[0. 0. 0. 0. 0. 0. 0. 0. 0. 0. 0. 0. 0. 0. 0. 0. 0. 0. 0. 0. 0. 0. 0. 0.\n",
      " 0. 0. 0. 0. 0. 0. 0. 0. 0. 0. 0. 0. 0. 0. 0. 0. 0. 0. 0. 0. 0. 0. 0. 0.\n",
      " 0. 0. 0. 0. 0. 0. 0. 0. 0. 0. 0. 0. 0. 0. 0. 0. 0. 0. 0. 0. 0. 0. 0. 0.\n",
      " 0. 0. 0. 0. 0. 0. 0. 0. 0. 0. 0. 0. 0. 0. 0. 0. 0. 0. 0. 0. 0. 0. 0. 0.\n",
      " 0. 0. 0. 0. 0. 0.]\n",
      "[0. 0. 0. 0. 0. 0. 0. 0. 0. 0. 0. 0. 0. 0. 0. 0. 0. 0. 0. 0. 0. 0. 0. 0.\n",
      " 0. 0. 0. 0. 0. 0. 0. 0. 0. 0. 0. 0. 0. 0. 0. 0. 0. 0. 0. 0. 0. 0. 0. 0.\n",
      " 0. 0. 0. 0. 0. 0. 0. 0. 0. 0. 0. 0. 0. 0. 0. 0. 0. 0. 0. 0. 0. 0. 0. 0.\n",
      " 0. 0. 0. 0. 0. 0. 0. 0. 0. 0. 0. 0. 0. 0. 0. 0. 0. 0. 0. 0. 0. 0. 0. 0.\n",
      " 0. 0. 0. 0. 1. 1.]\n",
      "[0. 0. 0. 0. 0. 0. 0. 0. 0. 0. 0. 0. 0. 0. 0. 0. 0. 0. 0. 0. 0. 0. 0. 0.\n",
      " 0. 0. 0. 0. 0. 0. 0. 0. 0. 0. 0. 0. 0. 0. 0. 0. 0. 0. 0. 0. 0. 0. 0. 0.\n",
      " 0. 0. 0. 0. 0. 0. 0. 0. 0. 0. 0. 0. 0. 0. 0. 0. 0. 0. 0. 0. 0. 0. 0. 0.\n",
      " 0. 0. 0. 0. 0. 0. 0. 0. 0. 0. 0. 0. 0. 0. 0. 0. 0. 0. 0. 0. 0. 0. 0. 0.\n",
      " 0. 0. 0. 0. 0. 1.]\n",
      "[0. 0. 0. 0. 0. 0. 0. 0. 0. 0. 0. 0. 0. 0. 0. 0. 0. 0. 0. 0. 0. 0. 0. 0.\n",
      " 0. 0. 0. 0. 0. 0. 0. 0. 0. 0. 0. 0. 0. 0. 0. 0. 0. 0. 0. 0. 0. 0. 0. 0.\n",
      " 0. 0. 0. 0. 0. 0. 0. 0. 0. 0. 0. 0. 0. 0. 0. 0. 0. 0. 0. 0. 0. 0. 0. 0.\n",
      " 0. 0. 0. 0. 0. 0. 0. 0. 0. 0. 0. 0. 0. 0. 0. 0. 0. 0. 0. 0. 0. 0. 0. 0.\n",
      " 0. 0. 0. 0. 0. 0.]\n"
     ]
    }
   ],
   "source": [
    "assign_datum(trendObj,102)"
   ]
  },
  {
   "cell_type": "code",
   "execution_count": 57,
   "metadata": {},
   "outputs": [
    {
     "name": "stdout",
     "output_type": "stream",
     "text": [
      "temp_clipped = [102 102 102 102 102 102 102 102]\n",
      "above = [ True  True  True  True  True  True  True  True  True]\n",
      "below = [False False False False False False False False False]\n",
      "True\n",
      "violation\n"
     ]
    }
   ],
   "source": [
    "mean = np.mean(trendObj['all_vals'])\n",
    "temp_clipped = trendObj['all_vals'][-8:]\n",
    "print(f'temp_clipped = {temp_clipped}')\n",
    "temp_clipped = np.append(temp_clipped,120)\n",
    "above = temp_clipped > mean\n",
    "print(f'above = {above}')\n",
    "below = temp_clipped < mean\n",
    "print(f'below = {below}')\n",
    "print(above.sum(axis=0) >= 9)\n",
    "if (above.sum(axis=0) >= 9) or (below.sum(axis=0) >= 9):\n",
    "    print('violation')\n",
    "    #obj['format_4'] = np.append(obj['format_4'],4)\n"
   ]
  },
  {
   "cell_type": "code",
   "execution_count": null,
   "metadata": {},
   "outputs": [],
   "source": [
    "assign_datum(trendObj)"
   ]
  },
  {
   "cell_type": "code",
   "execution_count": 81,
   "metadata": {},
   "outputs": [
    {
     "data": {
      "text/plain": [
       "[100]"
      ]
     },
     "execution_count": 81,
     "metadata": {},
     "output_type": "execute_result"
    }
   ],
   "source": [
    "format_arr(4)"
   ]
  },
  {
   "cell_type": "code",
   "execution_count": 83,
   "metadata": {},
   "outputs": [
    {
     "data": {
      "text/plain": [
       "101"
      ]
     },
     "execution_count": 83,
     "metadata": {},
     "output_type": "execute_result"
    }
   ],
   "source": [
    "len(trendObj['format_4'])"
   ]
  },
  {
   "cell_type": "code",
   "execution_count": 80,
   "metadata": {},
   "outputs": [
    {
     "data": {
      "image/png": "[encoded data removed]",
      "text/plain": [
       "<Figure size 432x288 with 1 Axes>"
      ]
     },
     "metadata": {
      "needs_background": "light"
     },
     "output_type": "display_data"
    }
   ],
   "source": [
    "plt.plot(trendObj['all_vals'], color='blue',markevery=format_arr(1), ls=\"\", marker=8, label=\"Rule1\", markersize=10.0)\n",
    "plt.plot(trendObj['all_vals'], color='blue',markevery=format_arr(2), ls=\"\", marker=9, label=\"Rule2\", markersize=10.0)\n",
    "plt.plot(trendObj['all_vals'], color='blue',markevery=format_arr(3), ls=\"\", marker=10, label=\"Rule3\", markersize=10.0)\n",
    "plt.plot(trendObj['all_vals'], color='blue',markevery=format_arr(4), ls=\"\", marker=11, label=\"Rule4\", markersize=10.0)\n",
    "plt.plot(trendObj['all_vals'], color='green', ls=\"\", marker=\"o\", markersize=4.0)\n",
    "plt.axhline(y=np.mean(trendObj['all_vals']), linewidth=1, color='r')\n",
    "plt.legend()\n",
    "plt.ylim(-40, 150)\n",
    "#plt.plot([0,len(trendObj['all_vals'])],[np.mean(trendObj['all_vals']),np.mean(trendObj['all_vals'])],'go--',linewidth=2)\n",
    "plt.show()"
   ]
  },
  {
   "cell_type": "code",
   "execution_count": 21,
   "metadata": {},
   "outputs": [
    {
     "data": {
      "image/png": "[encoded data removed]",
      "text/plain": [
       "<Figure size 432x288 with 1 Axes>"
      ]
     },
     "metadata": {
      "needs_background": "light"
     },
     "output_type": "display_data"
    }
   ],
   "source": [
    "plt.ylim(-50, 150)\n",
    "plt.plot(trendObj['all_vals'],'bo')\n",
    "arr_mean = np.mean(trendObj['all_vals'])\n",
    "plt.plot([0,100],[arr_mean,arr_mean],'go--',linewidth=2)\n",
    "#plt.plot(trendObj['all_vals', color='red',markevery=flag, ls=\"\", marker=\"+\", label=\"points\")\n",
    "#markevery will use the index to format the values\n",
    "plt.show()"
   ]
  },
  {
   "cell_type": "code",
   "execution_count": 22,
   "metadata": {},
   "outputs": [],
   "source": [
    "def proceed(num):\n",
    "    while True:\n",
    "        result = input(\"Add to data set? (y/n) \\n\")\n",
    "        if result.lower() not in ('y','n'):\n",
    "            print('Sorry, not a valid response')\n",
    "            continue\n",
    "        else:\n",
    "            break\n",
    "    if result == 'y':\n",
    "        myArr.append(num)\n",
    "        print(\"New datum added to list\")\n",
    "     \n",
    "    "
   ]
  },
  {
   "cell_type": "code",
   "execution_count": null,
   "metadata": {},
   "outputs": [
    {
     "name": "stdout",
     "output_type": "stream",
     "text": [
      "Rule 1 Violation. Lower Control Limit (LCL mean - 3SD) is 33.1.\n"
     ]
    }
   ],
   "source": [
    "testRule1(myArr,5)"
   ]
  },
  {
   "cell_type": "code",
   "execution_count": null,
   "metadata": {},
   "outputs": [],
   "source": [
    "keepGoing = True\n",
    "while keepGoing:\n",
    "    question = input(\"Should I keep going? \\n\")\n",
    "    if question == 'n':\n",
    "        print(\"Ok, thanks for playing!\")\n",
    "        keepGoing = False"
   ]
  },
  {
   "cell_type": "markdown",
   "metadata": {},
   "source": [
    "Rule 2: Two out of three consecutive points fall beyond the 2σ-limit (in zone A or beyond), on the same side of the centerline"
   ]
  },
  {
   "cell_type": "code",
   "execution_count": null,
   "metadata": {},
   "outputs": [],
   "source": [
    "#testing whether there are two out of three consecutive numbers above the line\n",
    "def testRule2(arr, newNum):\n",
    "    themean = stat.mean(arr)\n",
    "    sd = stat.stdev(arr)\n",
    "    twoSigUp = themean + sd*2\n",
    "    twoSigDown = themean - sd*2\n",
    "    arr.append(newNum)\n",
    "    clipped = np.array(arr)[-3:]\n",
    "    above2 = clipped > twoSigUp\n",
    "    below2 = clipped < twoSigDown\n",
    "    print(f'low: {round(twoSigDown,1)}, high: {round(twoSigUp,1)}')\n",
    "    if (above2.sum(axis=0) >= 2) or (below2.sum(axis=0) >= 2):\n",
    "        print(\"Violation\")\n",
    "        print(clipped)\n",
    "    else:\n",
    "        print(\"all good\")\n",
    "    \n",
    "    "
   ]
  },
  {
   "cell_type": "code",
   "execution_count": null,
   "metadata": {},
   "outputs": [],
   "source": [
    "myList = [3,4,3,6,5,4,7,7]"
   ]
  },
  {
   "cell_type": "code",
   "execution_count": null,
   "metadata": {},
   "outputs": [],
   "source": [
    "testRule2(myList, 20)"
   ]
  },
  {
   "cell_type": "code",
   "execution_count": null,
   "metadata": {},
   "outputs": [],
   "source": [
    "#myArr = [1,2,3,3,4,2,5,4]\n",
    "myArr = list(np.random.randint(50, 100, size=100))"
   ]
  },
  {
   "cell_type": "markdown",
   "metadata": {},
   "source": [
    "Rule 3: Four out of five consecutive points fall beyond the 1σ-limit (in zone B or beyond), on the same side of the centerline."
   ]
  },
  {
   "cell_type": "code",
   "execution_count": null,
   "metadata": {},
   "outputs": [],
   "source": [
    "def testRule3(arr, newNum):\n",
    "    themean = stat.mean(arr)\n",
    "    sd = stat.stdev(arr)\n",
    "    oneSigUp = themean + sd\n",
    "    oneSigDown = themean - sd\n",
    "    arr.append(newNum)\n",
    "    clipped = np.array(arr)[-5:]\n",
    "    above2 = clipped > oneSigUp\n",
    "    below2 = clipped < oneSigDown\n",
    "    print(f'low: {round(oneSigDown,1)}, high: {round(oneSigUp,1)}')\n",
    "    if (above2.sum(axis=0) >= 4) or (below2.sum(axis=0) >= 4):\n",
    "        print(\"Violation\")\n",
    "        print(clipped)\n",
    "    else:\n",
    "        print(\"all good\")"
   ]
  },
  {
   "cell_type": "code",
   "execution_count": null,
   "metadata": {},
   "outputs": [],
   "source": [
    "rule3List = [3,4,3,6,5,4,7,7,8,10,15,10,10,15]"
   ]
  },
  {
   "cell_type": "code",
   "execution_count": null,
   "metadata": {},
   "outputs": [],
   "source": [
    "testRule3(rule3List,15)"
   ]
  },
  {
   "cell_type": "markdown",
   "metadata": {},
   "source": [
    "Rule 4\tNINE consecutive points fall on the same side of the centerline (in zone C or beyond)"
   ]
  },
  {
   "cell_type": "code",
   "execution_count": null,
   "metadata": {},
   "outputs": [],
   "source": [
    "def testRule4(arr, newNum):\n",
    "    theMean = stat.mean(arr)\n",
    "    sd = stat.stdev(arr)\n",
    "    arr.append(newNum)\n",
    "    clipped = np.array(arr)[-9:]\n",
    "    above = clipped > theMean\n",
    "    below = clipped < theMean\n",
    "    print(f'mean:{round(theMean,1)}')\n",
    "    if (above.sum(axis=0) >= 9) or (below.sum(axis=0) >= 9):\n",
    "        print(\"Violation\")\n",
    "        print(clipped)\n",
    "    else:\n",
    "        print(\"all good\")"
   ]
  },
  {
   "cell_type": "code",
   "execution_count": null,
   "metadata": {},
   "outputs": [],
   "source": [
    "rule4List = [3,4,3,6,5,4,7,7,8,10,15,10,10,15,15,15,15,15]"
   ]
  },
  {
   "cell_type": "code",
   "execution_count": null,
   "metadata": {},
   "outputs": [],
   "source": [
    "testRule4(rule4List,15)"
   ]
  },
  {
   "cell_type": "code",
   "execution_count": null,
   "metadata": {},
   "outputs": [],
   "source": []
  }
 ],
 "metadata": {
  "kernelspec": {
   "display_name": "Python 3",
   "language": "python",
   "name": "python3"
  },
  "language_info": {
   "codemirror_mode": {
    "name": "ipython",
    "version": 3
   },
   "file_extension": ".py",
   "mimetype": "text/x-python",
   "name": "python",
   "nbconvert_exporter": "python",
   "pygments_lexer": "ipython3",
   "version": "3.7.3"
  }
 },
 "nbformat": 4,
 "nbformat_minor": 2
}
