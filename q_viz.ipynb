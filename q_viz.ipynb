{
 "cells": [
  {
   "cell_type": "code",
   "execution_count": 1,
   "metadata": {},
   "outputs": [],
   "source": [
    "import numpy as np\n",
    "import pandas as pd\n",
    "import matplotlib.pyplot as plt\n",
    "import statistics as stat"
   ]
  },
  {
   "cell_type": "markdown",
   "metadata": {},
   "source": [
    "### Western Electric Rules"
   ]
  },
  {
   "cell_type": "markdown",
   "metadata": {},
   "source": [
    "Rule 1: Any single data point falls outside the 3σ-limit from the centerline (i.e., any point that falls outside Zone A, beyond either the upper or lower control limit)"
   ]
  },
  {
   "cell_type": "markdown",
   "metadata": {},
   "source": [
    "Rule 2: Two out of three consecutive points fall beyond the 2σ-limit (in zone A or beyond), on the same side of the centerline"
   ]
  },
  {
   "cell_type": "markdown",
   "metadata": {},
   "source": [
    "Rule 3: Four out of five consecutive points fall beyond the 1σ-limit (in zone B or beyond), on the same side of the centerline."
   ]
  },
  {
   "cell_type": "markdown",
   "metadata": {},
   "source": [
    "Rule 4\tNINE consecutive points fall on the same side of the centerline (in zone C or beyond)"
   ]
  },
  {
   "cell_type": "code",
   "execution_count": 2,
   "metadata": {},
   "outputs": [],
   "source": [
    "def rando():\n",
    "    theNum = np.random.randint(50,100)\n",
    "    return theNum"
   ]
  },
  {
   "cell_type": "code",
   "execution_count": 3,
   "metadata": {},
   "outputs": [],
   "source": [
    "def testRule1(arr,newNum):\n",
    "    themean = stat.mean(arr)\n",
    "    sd = stat.stdev(arr)\n",
    "    sigUp = themean + sd*3\n",
    "    sigDown = themean - sd*3\n",
    "    if newNum > sigUp:\n",
    "        print(f\"Rule 1 Violation. Upper Control Limit (UCL -- mean + 3SD) is {round(sigUp,1)}\")\n",
    "        proceed(newNum)\n",
    "    elif newNum < sigDown:\n",
    "        print(f\"Rule 1 Violation. Lower Control Limit (LCL mean - 3SD) is {round(sigDown,1)}.\")\n",
    "        proceed(newNum)\n",
    "    else:\n",
    "        myArr.append(newNum)\n",
    "        print(\"New datum added to list\")\n",
    "        print(f\"New array: {myArr}\")\n",
    "    keepOn = input(\"Continue with monitoring (y/n)? \\n\")\n",
    "        \n",
    "    "
   ]
  },
  {
   "cell_type": "code",
   "execution_count": 5,
   "metadata": {},
   "outputs": [],
   "source": [
    "def testRule1b(obj,newNum, mean, sd):\n",
    "    sigUp = mean + sd*3\n",
    "    sigDown = mean - sd*3\n",
    "    code = (newNum > sigUp) or (newNum < sigDown)\n",
    "    obj['format_1'] = np.append(obj['format_1'],code)\n",
    "    return"
   ]
  },
  {
   "cell_type": "code",
   "execution_count": 6,
   "metadata": {},
   "outputs": [],
   "source": [
    "def testRule2b(obj, newNum, mean, sd):\n",
    "    twoSigUp = mean + sd*2\n",
    "    twoSigDown = mean - sd*2\n",
    "    temp_clipped = obj['all_vals'][-2:]\n",
    "    temp_clipped = np.append(temp_clipped,newNum)\n",
    "    above2 = temp_clipped > twoSigUp\n",
    "    below2 = temp_clipped < twoSigDown\n",
    "    code = (above2.sum(axis=0) >= 2) or (below2.sum(axis=0) >= 2)\n",
    "    obj['format_2'] = np.append(obj['format_2'],code)\n",
    "    return    "
   ]
  },
  {
   "cell_type": "code",
   "execution_count": 7,
   "metadata": {},
   "outputs": [],
   "source": [
    "def testRule3b(obj, newNum, mean, sd):\n",
    "    oneSigUp = mean + sd\n",
    "    oneSigDown = mean - sd\n",
    "    temp_clipped = obj['all_vals'][-5:]\n",
    "    temp_clipped = np.append(temp_clipped,newNum)\n",
    "    above1 = temp_clipped > oneSigUp\n",
    "    below1 = temp_clipped < oneSigDown\n",
    "    code = (above1.sum(axis=0) >= 4) or (below1.sum(axis=0) >= 4)\n",
    "    obj['format_3'] = np.append(obj['format_3'],code)\n",
    "    return"
   ]
  },
  {
   "cell_type": "code",
   "execution_count": 8,
   "metadata": {},
   "outputs": [],
   "source": [
    "def testRule4b(obj, newNum, mean):\n",
    "    temp_clipped = obj['all_vals'][-8:]\n",
    "    temp_clipped = np.append(temp_clipped,newNum)\n",
    "    above = temp_clipped > mean\n",
    "    below = temp_clipped < mean\n",
    "    code = (above.sum(axis=0) >= 9) or (below.sum(axis=0) >= 9)\n",
    "    obj['format_4'] = np.append(obj['format_4'],code)\n",
    "    return"
   ]
  },
  {
   "cell_type": "code",
   "execution_count": 9,
   "metadata": {},
   "outputs": [],
   "source": [
    "def violations(obj,datum):\n",
    "    \n",
    "    theMean = np.mean(obj['all_vals'])\n",
    "    sd = np.std(obj['all_vals'])\n",
    "    testRule1b(obj,datum, theMean, sd)\n",
    "    testRule2b(obj,datum, theMean, sd)\n",
    "    testRule3b(obj,datum, theMean, sd)\n",
    "    testRule4b(obj,datum, theMean)\n",
    "    return"
   ]
  },
  {
   "cell_type": "code",
   "execution_count": 10,
   "metadata": {},
   "outputs": [],
   "source": [
    "def assign_datum(obj,datum = None):\n",
    "    if(datum is None):\n",
    "        datum = rando()\n",
    "    violations(obj,datum)\n",
    "    obj['all_vals'] = np.append(obj['all_vals'],datum)\n",
    "    print(obj['all_vals'])\n",
    "    print(obj['format_4'])\n",
    "    print(obj['format_3'])\n",
    "    print(obj['format_2'])\n",
    "    print(obj['format_1'])\n",
    "    return\n",
    "    "
   ]
  },
  {
   "cell_type": "code",
   "execution_count": 11,
   "metadata": {},
   "outputs": [],
   "source": [
    "trendObj = {'all_vals': np.random.randint(50, 100, size=100),\n",
    "            'format_1': np.zeros(100),\n",
    "            'format_2': np.zeros(100),\n",
    "            'format_3': np.zeros(100),\n",
    "            'format_4': np.zeros(100),\n",
    "           }\n"
   ]
  },
  {
   "cell_type": "code",
   "execution_count": 56,
   "metadata": {},
   "outputs": [],
   "source": [
    "#Return the value's index if rule has been violated.  This will be used for formatting.\n",
    "def format_arr(rule):\n",
    "    rule_arr = 'format_' + str(rule)\n",
    "    return [index for index,val in enumerate(trendObj[rule_arr]) if val]\n"
   ]
  },
  {
   "cell_type": "code",
   "execution_count": 53,
   "metadata": {},
   "outputs": [
    {
     "name": "stdout",
     "output_type": "stream",
     "text": [
      "[ 78  66  78  88  98  66  56  99  60  80  68  66  57  81  67  83  85  65\n",
      "  89  64  90  96  82  97  91  93  66  74  52  96  87  64  93  74  57  95\n",
      "  73  96  70  80  54  70  98  88  92  79  83  89  93  50  88  98  76  88\n",
      "  59  70  51  70  78  82  75  81  92  85  65  60  63  88  70  58  56  55\n",
      "  50  79  67  56  77  67  78  80  50  62  71  95  54  90  61  54  62  80\n",
      "  81  93  68  53  51  54  72  86  66  68  54  50  95  71 130  80  81  84\n",
      "  80  80  80  80  80  44  44  91  91  91  91  91  91  91  91  91  91  91\n",
      "  91]\n",
      "[0. 0. 0. 0. 0. 0. 0. 0. 0. 0. 0. 0. 0. 0. 0. 0. 0. 0. 0. 0. 0. 0. 0. 0.\n",
      " 0. 0. 0. 0. 0. 0. 0. 0. 0. 0. 0. 0. 0. 0. 0. 0. 0. 0. 0. 0. 0. 0. 0. 0.\n",
      " 0. 0. 0. 0. 0. 0. 0. 0. 0. 0. 0. 0. 0. 0. 0. 0. 0. 0. 0. 0. 0. 0. 0. 0.\n",
      " 0. 0. 0. 0. 0. 0. 0. 0. 0. 0. 0. 0. 0. 0. 0. 0. 0. 0. 0. 0. 0. 0. 0. 0.\n",
      " 0. 0. 0. 0. 0. 0. 0. 0. 0. 0. 0. 0. 0. 0. 0. 0. 1. 0. 0. 0. 0. 0. 0. 0.\n",
      " 0. 0. 0. 1. 1. 1. 1.]\n",
      "[0. 0. 0. 0. 0. 0. 0. 0. 0. 0. 0. 0. 0. 0. 0. 0. 0. 0. 0. 0. 0. 0. 0. 0.\n",
      " 0. 0. 0. 0. 0. 0. 0. 0. 0. 0. 0. 0. 0. 0. 0. 0. 0. 0. 0. 0. 0. 0. 0. 0.\n",
      " 0. 0. 0. 0. 0. 0. 0. 0. 0. 0. 0. 0. 0. 0. 0. 0. 0. 0. 0. 0. 0. 0. 0. 0.\n",
      " 0. 0. 0. 0. 0. 0. 0. 0. 0. 0. 0. 0. 0. 0. 0. 0. 0. 0. 0. 0. 0. 0. 0. 0.\n",
      " 0. 0. 0. 0. 0. 0. 0. 0. 0. 0. 0. 0. 0. 0. 0. 0. 0. 0. 0. 0. 0. 0. 1. 1.\n",
      " 1. 1. 1. 0. 0. 0. 0.]\n",
      "[0. 0. 0. 0. 0. 0. 0. 0. 0. 0. 0. 0. 0. 0. 0. 0. 0. 0. 0. 0. 0. 0. 0. 0.\n",
      " 0. 0. 0. 0. 0. 0. 0. 0. 0. 0. 0. 0. 0. 0. 0. 0. 0. 0. 0. 0. 0. 0. 0. 0.\n",
      " 0. 0. 0. 0. 0. 0. 0. 0. 0. 0. 0. 0. 0. 0. 0. 0. 0. 0. 0. 0. 0. 0. 0. 0.\n",
      " 0. 0. 0. 0. 0. 0. 0. 0. 0. 0. 0. 0. 0. 0. 0. 0. 0. 0. 0. 0. 0. 0. 0. 0.\n",
      " 0. 0. 0. 0. 0. 0. 0. 0. 0. 0. 0. 0. 0. 0. 0. 0. 0. 0. 1. 0. 0. 0. 0. 0.\n",
      " 0. 0. 0. 0. 0. 0. 0.]\n",
      "[0. 0. 0. 0. 0. 0. 0. 0. 0. 0. 0. 0. 0. 0. 0. 0. 0. 0. 0. 0. 0. 0. 0. 0.\n",
      " 0. 0. 0. 0. 0. 0. 0. 0. 0. 0. 0. 0. 0. 0. 0. 0. 0. 0. 0. 0. 0. 0. 0. 0.\n",
      " 0. 0. 0. 0. 0. 0. 0. 0. 0. 0. 0. 0. 0. 0. 0. 0. 0. 0. 0. 0. 0. 0. 0. 0.\n",
      " 0. 0. 0. 0. 0. 0. 0. 0. 0. 0. 0. 0. 0. 0. 0. 0. 0. 0. 0. 0. 0. 0. 0. 0.\n",
      " 0. 0. 0. 0. 0. 0. 0. 0. 1. 0. 0. 0. 0. 0. 0. 0. 0. 0. 0. 0. 0. 0. 0. 0.\n",
      " 0. 0. 0. 0. 0. 0. 0.]\n"
     ]
    }
   ],
   "source": [
    "assign_datum(trendObj,91)"
   ]
  },
  {
   "cell_type": "code",
   "execution_count": 54,
   "metadata": {},
   "outputs": [
    {
     "data": {
      "image/png": "[encoded data removed]",
      "text/plain": [
       "<Figure size 432x288 with 1 Axes>"
      ]
     },
     "metadata": {
      "needs_background": "light"
     },
     "output_type": "display_data"
    }
   ],
   "source": [
    "#Plot all values and the formatting arrays to show violations\n",
    "plt.plot(trendObj['all_vals'], color='blue',markevery=format_arr(1), ls=\"\", marker=8, label=\"Rule1\", markersize=10.0)\n",
    "plt.plot(trendObj['all_vals'], color='blue',markevery=format_arr(2), ls=\"\", marker=9, label=\"Rule2\", markersize=10.0)\n",
    "plt.plot(trendObj['all_vals'], color='blue',markevery=format_arr(3), ls=\"\", marker=10, label=\"Rule3\", markersize=10.0)\n",
    "plt.plot(trendObj['all_vals'], color='blue',markevery=format_arr(4), ls=\"\", marker=11, label=\"Rule4\", markersize=10.0)\n",
    "plt.plot(trendObj['all_vals'], color='green', ls=\"\", marker=\"o\", markersize=4.0)\n",
    "plt.axhline(y=np.mean(trendObj['all_vals']), linewidth=1, color='r')\n",
    "plt.legend()\n",
    "plt.ylim(-40, 150)\n",
    "plt.show()"
   ]
  },
  {
   "cell_type": "code",
   "execution_count": 22,
   "metadata": {},
   "outputs": [],
   "source": [
    "def proceed(num):\n",
    "    while True:\n",
    "        result = input(\"Add to data set? (y/n) \\n\")\n",
    "        if result.lower() not in ('y','n'):\n",
    "            print('Sorry, not a valid response')\n",
    "            continue\n",
    "        else:\n",
    "            break\n",
    "    if result == 'y':\n",
    "        myArr.append(num)\n",
    "        print(\"New datum added to list\")\n",
    "     \n",
    "    "
   ]
  },
  {
   "cell_type": "code",
   "execution_count": null,
   "metadata": {},
   "outputs": [],
   "source": [
    "keepGoing = True\n",
    "while keepGoing:\n",
    "    question = input(\"Should I keep going? \\n\")\n",
    "    if question == 'n':\n",
    "        print(\"Ok, thanks for playing!\")\n",
    "        keepGoing = False"
   ]
  }
 ],
 "metadata": {
  "kernelspec": {
   "display_name": "Python 3",
   "language": "python",
   "name": "python3"
  },
  "language_info": {
   "codemirror_mode": {
    "name": "ipython",
    "version": 3
   },
   "file_extension": ".py",
   "mimetype": "text/x-python",
   "name": "python",
   "nbconvert_exporter": "python",
   "pygments_lexer": "ipython3",
   "version": "3.7.3"
  }
 },
 "nbformat": 4,
 "nbformat_minor": 2
}
