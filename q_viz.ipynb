{
 "cells": [
  {
   "cell_type": "code",
   "execution_count": 1,
   "metadata": {},
   "outputs": [],
   "source": [
    "import numpy as np\n",
    "import pandas as pd\n",
    "import matplotlib.pyplot as plt\n",
    "import statistics as stat"
   ]
  },
  {
   "cell_type": "markdown",
   "metadata": {},
   "source": [
    "### Western Electric Rules"
   ]
  },
  {
   "cell_type": "markdown",
   "metadata": {},
   "source": [
    "Rule 1: Any single data point falls outside the 3σ-limit from the centerline (i.e., any point that falls outside Zone A, beyond either the upper or lower control limit)"
   ]
  },
  {
   "cell_type": "markdown",
   "metadata": {},
   "source": [
    "Rule 2: Two out of three consecutive points fall beyond the 2σ-limit (in zone A or beyond), on the same side of the centerline"
   ]
  },
  {
   "cell_type": "markdown",
   "metadata": {},
   "source": [
    "Rule 3: Four out of five consecutive points fall beyond the 1σ-limit (in zone B or beyond), on the same side of the centerline."
   ]
  },
  {
   "cell_type": "markdown",
   "metadata": {},
   "source": [
    "Rule 4\tNine consecutive points fall on the same side of the centerline (in zone C or beyond)."
   ]
  },
  {
   "cell_type": "code",
   "execution_count": 2,
   "metadata": {},
   "outputs": [],
   "source": [
    "def rando():\n",
    "    theNum = np.random.randint(50,100)\n",
    "    return theNum"
   ]
  },
  {
   "cell_type": "code",
   "execution_count": 3,
   "metadata": {},
   "outputs": [],
   "source": [
    "def testRule1(obj,newNum, mean, sd):\n",
    "    sigUp = mean + sd*3\n",
    "    sigDown = mean - sd*3\n",
    "    code = (newNum > sigUp) or (newNum < sigDown)\n",
    "    obj['format_1'] = np.append(obj['format_1'],code)\n",
    "    return"
   ]
  },
  {
   "cell_type": "code",
   "execution_count": 4,
   "metadata": {},
   "outputs": [],
   "source": [
    "def testRule2(obj, newNum, mean, sd):\n",
    "    twoSigUp = mean + sd*2\n",
    "    twoSigDown = mean - sd*2\n",
    "    temp_clipped = obj['all_vals'][-2:]\n",
    "    temp_clipped = np.append(temp_clipped,newNum)\n",
    "    above2 = temp_clipped > twoSigUp\n",
    "    below2 = temp_clipped < twoSigDown\n",
    "    code = (above2.sum(axis=0) >= 2) or (below2.sum(axis=0) >= 2)\n",
    "    obj['format_2'] = np.append(obj['format_2'],code)\n",
    "    return    "
   ]
  },
  {
   "cell_type": "code",
   "execution_count": 5,
   "metadata": {},
   "outputs": [],
   "source": [
    "def testRule3(obj, newNum, mean, sd):\n",
    "    oneSigUp = mean + sd\n",
    "    oneSigDown = mean - sd\n",
    "    temp_clipped = obj['all_vals'][-5:]\n",
    "    temp_clipped = np.append(temp_clipped,newNum)\n",
    "    above1 = temp_clipped > oneSigUp\n",
    "    below1 = temp_clipped < oneSigDown\n",
    "    code = (above1.sum(axis=0) >= 4) or (below1.sum(axis=0) >= 4)\n",
    "    obj['format_3'] = np.append(obj['format_3'],code)\n",
    "    return"
   ]
  },
  {
   "cell_type": "code",
   "execution_count": 6,
   "metadata": {},
   "outputs": [],
   "source": [
    "def testRule4(obj, newNum, mean):\n",
    "    temp_clipped = obj['all_vals'][-8:]\n",
    "    temp_clipped = np.append(temp_clipped,newNum)\n",
    "    above = temp_clipped > mean\n",
    "    below = temp_clipped < mean\n",
    "    code = (above.sum(axis=0) >= 9) or (below.sum(axis=0) >= 9)\n",
    "    obj['format_4'] = np.append(obj['format_4'],code)\n",
    "    return"
   ]
  },
  {
   "cell_type": "code",
   "execution_count": 7,
   "metadata": {},
   "outputs": [],
   "source": [
    "def violations(obj,datum):\n",
    "    theMean = np.mean(obj['all_vals'])\n",
    "    sd = np.std(obj['all_vals'])\n",
    "    testRule1(obj,datum, theMean, sd)\n",
    "    testRule2(obj,datum, theMean, sd)\n",
    "    testRule3(obj,datum, theMean, sd)\n",
    "    testRule4(obj,datum, theMean)\n",
    "    return"
   ]
  },
  {
   "cell_type": "code",
   "execution_count": 8,
   "metadata": {},
   "outputs": [],
   "source": [
    "def assign_datum(obj,datum = None):\n",
    "    if(datum is None):\n",
    "        datum = rando()\n",
    "    violations(obj,datum)\n",
    "    obj['all_vals'] = np.append(obj['all_vals'],datum)\n",
    "    return\n",
    "    "
   ]
  },
  {
   "cell_type": "code",
   "execution_count": 9,
   "metadata": {},
   "outputs": [],
   "source": [
    "trendObj = {'all_vals': np.random.randint(50, 100, size=100),\n",
    "            'format_1': np.zeros(100),\n",
    "            'format_2': np.zeros(100),\n",
    "            'format_3': np.zeros(100),\n",
    "            'format_4': np.zeros(100),\n",
    "           }\n"
   ]
  },
  {
   "cell_type": "code",
   "execution_count": 10,
   "metadata": {},
   "outputs": [],
   "source": [
    "#Return the value's index if rule has been violated.  This is used for formatting.\n",
    "def format_arr(rule):\n",
    "    rule_arr = 'format_' + str(rule)\n",
    "    return [index for index,val in enumerate(trendObj[rule_arr]) if val]\n"
   ]
  },
  {
   "cell_type": "code",
   "execution_count": 32,
   "metadata": {},
   "outputs": [],
   "source": [
    "def plotAxlines(array):\n",
    "    theMean = np.mean(array)\n",
    "    sd = np.std(array)\n",
    "    colors = ['black','green','yellow','red']\n",
    "    for level,color in enumerate(colors):\n",
    "        upper = theMean + sd*level\n",
    "        lower = theMean - sd*level\n",
    "        plt.axhline(y=upper, linewidth=1, color=color)\n",
    "        plt.axhline(y=lower, linewidth=1, color=color)\n",
    "    return              "
   ]
  },
  {
   "cell_type": "code",
   "execution_count": 21,
   "metadata": {},
   "outputs": [],
   "source": [
    "assign_datum(trendObj,82)"
   ]
  },
  {
   "cell_type": "code",
   "execution_count": 23,
   "metadata": {},
   "outputs": [
    {
     "name": "stdout",
     "output_type": "stream",
     "text": [
      "[ 69  80  50  54  89  91  89  53  82  94  96  81  91  99  83  56  56  62\n",
      "  60  91  59  81  97  66  64  86  92  97  85  77  78  62  96  64  66  94\n",
      "  68  66  63  71  72  53  52  93  70  84  85  52  69  90  65  72  60  64\n",
      "  84  86  63  95  62  86  92  58  78  64  97  68  92  79  64  66  90  54\n",
      "  50  96  66  80  51  82  93  65  97  78  86  91  50  57  80  89  78  91\n",
      "  82  94  81  98  76  68  65  68  99  82  95 120 140  81  82  84  86  82]\n",
      "[0. 0. 0. 0. 0. 0. 0. 0. 0. 0. 0. 0. 0. 0. 0. 0. 0. 0. 0. 0. 0. 0. 0. 0.\n",
      " 0. 0. 0. 0. 0. 0. 0. 0. 0. 0. 0. 0. 0. 0. 0. 0. 0. 0. 0. 0. 0. 0. 0. 0.\n",
      " 0. 0. 0. 0. 0. 0. 0. 0. 0. 0. 0. 0. 0. 0. 0. 0. 0. 0. 0. 0. 0. 0. 0. 0.\n",
      " 0. 0. 0. 0. 0. 0. 0. 0. 0. 0. 0. 0. 0. 0. 0. 0. 0. 0. 0. 0. 0. 0. 0. 0.\n",
      " 0. 0. 0. 0. 0. 0. 1. 0. 0. 0. 0. 0.]\n",
      "[0. 0. 0. 0. 0. 0. 0. 0. 0. 0. 0. 0. 0. 0. 0. 0. 0. 0. 0. 0. 0. 0. 0. 0.\n",
      " 0. 0. 0. 0. 0. 0. 0. 0. 0. 0. 0. 0. 0. 0. 0. 0. 0. 0. 0. 0. 0. 0. 0. 0.\n",
      " 0. 0. 0. 0. 0. 0. 0. 0. 0. 0. 0. 0. 0. 0. 0. 0. 0. 0. 0. 0. 0. 0. 0. 0.\n",
      " 0. 0. 0. 0. 0. 0. 0. 0. 0. 0. 0. 0. 0. 0. 0. 0. 0. 0. 0. 0. 0. 0. 0. 0.\n",
      " 0. 0. 0. 0. 0. 0. 1. 1. 0. 0. 0. 0.]\n",
      "[0. 0. 0. 0. 0. 0. 0. 0. 0. 0. 0. 0. 0. 0. 0. 0. 0. 0. 0. 0. 0. 0. 0. 0.\n",
      " 0. 0. 0. 0. 0. 0. 0. 0. 0. 0. 0. 0. 0. 0. 0. 0. 0. 0. 0. 0. 0. 0. 0. 0.\n",
      " 0. 0. 0. 0. 0. 0. 0. 0. 0. 0. 0. 0. 0. 0. 0. 0. 0. 0. 0. 0. 0. 0. 0. 0.\n",
      " 0. 0. 0. 0. 0. 0. 0. 0. 0. 0. 0. 0. 0. 0. 0. 0. 0. 0. 0. 0. 0. 0. 0. 0.\n",
      " 0. 0. 0. 0. 0. 0. 1. 1. 0. 0. 0. 0.]\n",
      "[0. 0. 0. 0. 0. 0. 0. 0. 0. 0. 0. 0. 0. 0. 0. 0. 0. 0. 0. 0. 0. 0. 0. 0.\n",
      " 0. 0. 0. 0. 0. 0. 0. 0. 0. 0. 0. 0. 0. 0. 0. 0. 0. 0. 0. 0. 0. 0. 0. 0.\n",
      " 0. 0. 0. 0. 0. 0. 0. 0. 0. 0. 0. 0. 0. 0. 0. 0. 0. 0. 0. 0. 0. 0. 0. 0.\n",
      " 0. 0. 0. 0. 0. 0. 0. 0. 0. 0. 0. 0. 0. 0. 0. 0. 0. 0. 0. 0. 0. 0. 0. 0.\n",
      " 0. 0. 0. 0. 0. 0. 0. 0. 0. 0. 1. 1.]\n"
     ]
    }
   ],
   "source": [
    "print(trendObj['all_vals'])\n",
    "print(trendObj['format_1'])\n",
    "print(trendObj['format_2'])\n",
    "print(trendObj['format_3'])\n",
    "print(trendObj['format_4'])\n"
   ]
  },
  {
   "cell_type": "code",
   "execution_count": 34,
   "metadata": {},
   "outputs": [
    {
     "data": {
      "image/png": "[encoded data removed]",
      "text/plain": [
       "<Figure size 864x576 with 1 Axes>"
      ]
     },
     "metadata": {
      "needs_background": "light"
     },
     "output_type": "display_data"
    }
   ],
   "source": [
    "#Plot all values and the formatting arrays to show violations\n",
    "mark = 6.0\n",
    "plt.figure(figsize=(12,8))\n",
    "plt.plot(trendObj['all_vals'], color='red',markevery=format_arr(1), ls=\"\", marker='s',mfc = 'none', mec='red', label=\"Rule1\", markersize=mark*3.5)\n",
    "plt.plot(trendObj['all_vals'], color='blue',markevery=format_arr(2), ls=\"\", marker='o', mfc='none',mec='blue',label=\"Rule2\", markersize=mark*3)\n",
    "plt.plot(trendObj['all_vals'], color='blue',markevery=format_arr(3), ls=\"\", marker='o', mfc='none',mec='purple',label=\"Rule3\", markersize=mark*2.5)\n",
    "plt.plot(trendObj['all_vals'], color='blue',markevery=format_arr(4), ls=\"\", marker='o', mfc='none',mec='green',label=\"Rule4\", markersize=mark*1.7)\n",
    "plt.plot(trendObj['all_vals'], color='#81B5CB', ls=\"\", marker=\"o\", markersize=mark)\n",
    "plotAxlines(trendObj['all_vals'])\n",
    "plt.legend()\n",
    "plt.ylim(-10, 150)\n",
    "#plt.savefig('control-chart.png')\n",
    "plt.show()"
   ]
  }
 ],
 "metadata": {
  "kernelspec": {
   "display_name": "Python 3",
   "language": "python",
   "name": "python3"
  },
  "language_info": {
   "codemirror_mode": {
    "name": "ipython",
    "version": 3
   },
   "file_extension": ".py",
   "mimetype": "text/x-python",
   "name": "python",
   "nbconvert_exporter": "python",
   "pygments_lexer": "ipython3",
   "version": "3.7.3"
  }
 },
 "nbformat": 4,
 "nbformat_minor": 2
}
